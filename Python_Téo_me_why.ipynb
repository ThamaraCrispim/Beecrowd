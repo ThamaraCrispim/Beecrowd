{
  "nbformat": 4,
  "nbformat_minor": 0,
  "metadata": {
    "colab": {
      "provenance": [],
      "authorship_tag": "ABX9TyMnNA8OxzRtbdYlOPMHsbyN",
      "include_colab_link": true
    },
    "kernelspec": {
      "name": "python3",
      "display_name": "Python 3"
    },
    "language_info": {
      "name": "python"
    }
  },
  "cells": [
    {
      "cell_type": "markdown",
      "metadata": {
        "id": "view-in-github",
        "colab_type": "text"
      },
      "source": [
        "<a href=\"https://colab.research.google.com/github/ThamaraCrispim/Beecrowd-Python/blob/main/Python_T%C3%A9o_me_why.ipynb\" target=\"_parent\"><img src=\"https://colab.research.google.com/assets/colab-badge.svg\" alt=\"Open In Colab\"/></a>"
      ]
    },
    {
      "cell_type": "markdown",
      "source": [
        "**Ementa (1/3)**\n",
        "\n",
        "- Introdução á programação e ao python\n",
        "- configurando o ambiente de desenvolvimento\n",
        "- Olá mundo\n",
        "\n",
        "**Tipo básico de dados**\n",
        "- texto\n",
        "- números\n",
        "- python como uma calculadora\n",
        "\n",
        "**Variáveis**\n",
        "- como armazenar resultados e entrada do usuário\n",
        "*  exercicio\n",
        "\n",
        "**Estrututa de controle**\n",
        "- Estruturas de condicionais (if, else, elif)\n",
        "- estruturas de repetição (whilw, For, Break, Continue)"
      ],
      "metadata": {
        "id": "nk5bRXxqX3tw"
      }
    },
    {
      "cell_type": "markdown",
      "source": [
        "**Python**\n",
        "- criada em 1991 por Guido van rossum\n",
        "- Linguagem de propósito Geral\n",
        "- Versátil\n",
        "- alto nível\n",
        "- open source\n",
        "- Multiplataforma\n",
        "- Fácil de aprender (ensino de programação para crianças)\n",
        "- Muiyo Ultilizada para área de dados e pesquisa científica"
      ],
      "metadata": {
        "id": "FFYzjeffga5p"
      }
    },
    {
      "cell_type": "code",
      "source": [
        "print('Olá, mundo!')"
      ],
      "metadata": {
        "colab": {
          "base_uri": "https://localhost:8080/"
        },
        "id": "ilifLODCg7Uj",
        "outputId": "40b66ea8-4399-4bee-c875-35eb6dbcee89"
      },
      "execution_count": null,
      "outputs": [
        {
          "output_type": "stream",
          "name": "stdout",
          "text": [
            "Olá, mundo!\n"
          ]
        }
      ]
    },
    {
      "cell_type": "code",
      "source": [
        "a = 'Olá, mundo!'\n",
        "print(a)"
      ],
      "metadata": {
        "colab": {
          "base_uri": "https://localhost:8080/"
        },
        "id": "BXHTQepYbo3I",
        "outputId": "c71bec60-ed83-4801-d5a0-6697fa54939a"
      },
      "execution_count": null,
      "outputs": [
        {
          "output_type": "stream",
          "name": "stdout",
          "text": [
            "Olá, mundo!\n"
          ]
        }
      ]
    },
    {
      "cell_type": "code",
      "source": [
        "print(2+2)"
      ],
      "metadata": {
        "colab": {
          "base_uri": "https://localhost:8080/"
        },
        "id": "XfD2ul6Bh6mX",
        "outputId": "5a170d21-e4c3-4c74-d6f9-baf3b00dcbd7"
      },
      "execution_count": null,
      "outputs": [
        {
          "output_type": "stream",
          "name": "stdout",
          "text": [
            "4\n"
          ]
        }
      ]
    },
    {
      "cell_type": "code",
      "source": [
        "#Como imprimir uma palavra\n",
        "# %%\n",
        "\n",
        "print('Thamara')\n",
        "print('gisele')\n",
        "print('Gabrielly')"
      ],
      "metadata": {
        "colab": {
          "base_uri": "https://localhost:8080/"
        },
        "id": "-okdnwIyijMU",
        "outputId": "12d92891-f66e-4379-cd08-cb603fddfb84"
      },
      "execution_count": null,
      "outputs": [
        {
          "output_type": "stream",
          "name": "stdout",
          "text": [
            "Thamara\n",
            "gisele\n",
            "Gabrielly\n"
          ]
        }
      ]
    },
    {
      "cell_type": "code",
      "source": [
        "#Calculadora como imprimir resultado de uma conta matematica\n",
        "print(2 + 2)\n",
        "print('2 + 2=', 2+2)\n",
        "print(10/2)\n",
        "print(10+2)\n",
        "#type vai compra o tipo do dados\n",
        "type(2.0)\n",
        "print(7 % 3) #resto na divisão\n",
        "#parte inteira da divisão\n",
        "print(7 // 3)\n",
        "\n",
        "#exponenciação\n",
        "\n",
        "print(10**4)"
      ],
      "metadata": {
        "colab": {
          "base_uri": "https://localhost:8080/"
        },
        "id": "xiL75fETkf64",
        "outputId": "52dba76a-2987-4f11-cd53-5d2a710baa85"
      },
      "execution_count": null,
      "outputs": [
        {
          "output_type": "stream",
          "name": "stdout",
          "text": [
            "4\n",
            "2 + 2= 4\n",
            "5.0\n",
            "12\n",
            "1\n",
            "2\n",
            "10000\n"
          ]
        }
      ]
    },
    {
      "cell_type": "code",
      "source": [
        "nome = 'Thamara'\n",
        "print(nome)"
      ],
      "metadata": {
        "colab": {
          "base_uri": "https://localhost:8080/"
        },
        "id": "LWs4odsLrdQh",
        "outputId": "7948d85c-24ce-4f01-8f11-912a041edfe9"
      },
      "execution_count": null,
      "outputs": [
        {
          "output_type": "stream",
          "name": "stdout",
          "text": [
            "Thamara\n"
          ]
        }
      ]
    },
    {
      "cell_type": "code",
      "source": [
        "#Como adicionar valor a uma variável.\n",
        "print('Seja bem vindo!,', nome)\n",
        "\n"
      ],
      "metadata": {
        "id": "fEiU4Z0Wm8aH",
        "colab": {
          "base_uri": "https://localhost:8080/"
        },
        "outputId": "07d4add5-a071-4a3a-a1ad-3942b59a08f3"
      },
      "execution_count": null,
      "outputs": [
        {
          "output_type": "stream",
          "name": "stdout",
          "text": [
            "Seja bem vindo!, Thamara\n"
          ]
        }
      ]
    },
    {
      "cell_type": "code",
      "source": [
        "a = 10\n",
        "b = 20\n",
        "resultado = a + b\n",
        "print(resultado)"
      ],
      "metadata": {
        "colab": {
          "base_uri": "https://localhost:8080/"
        },
        "id": "SkbIU6aKr78i",
        "outputId": "f4c82216-6c1f-4747-f207-6723cead973a"
      },
      "execution_count": null,
      "outputs": [
        {
          "output_type": "stream",
          "name": "stdout",
          "text": [
            "30\n"
          ]
        }
      ]
    },
    {
      "cell_type": "code",
      "source": [
        "#Como eu faço para o usuario receber alguma informação.\n",
        "nome = input(('entra com o seu nome:'))\n",
        "print('esperando...')\n",
        "print(nome)"
      ],
      "metadata": {
        "id": "I2lLLRWYsJB9",
        "colab": {
          "base_uri": "https://localhost:8080/"
        },
        "outputId": "51139857-3b96-4ddd-e056-c11067872fd4"
      },
      "execution_count": null,
      "outputs": [
        {
          "output_type": "stream",
          "name": "stdout",
          "text": [
            "entra com o seu nome:thamara\n",
            "esperando...\n",
            "thamara\n"
          ]
        }
      ]
    },
    {
      "cell_type": "code",
      "source": [
        "a = int(input('Entra com o valor de A: '))\n",
        "b = int(input('Entra com o valor de B: '))\n",
        "s = a + b\n",
        "print('A soma de', a, '+', b, '=', s)\n"
      ],
      "metadata": {
        "id": "j7IoGLTBtReb",
        "colab": {
          "base_uri": "https://localhost:8080/"
        },
        "outputId": "9a5288e9-9ef4-41c0-b9f0-89b206ec7937"
      },
      "execution_count": null,
      "outputs": [
        {
          "output_type": "stream",
          "name": "stdout",
          "text": [
            "Entra com o valor de A: 5\n",
            "Entra com o valor de B: 8\n",
            "A soma de 5 + 8 = 13\n"
          ]
        }
      ]
    },
    {
      "cell_type": "markdown",
      "source": [
        "Exercícios:"
      ],
      "metadata": {
        "id": "hKUm7bc5vRNw"
      }
    },
    {
      "cell_type": "code",
      "source": [
        "#ex 01 - Faça um programa que dê bom dia\n",
        "print('Bom dia')"
      ],
      "metadata": {
        "id": "dz04v4qpvQwE"
      },
      "execution_count": null,
      "outputs": []
    },
    {
      "cell_type": "code",
      "source": [
        "#ex02Faça um programa que de bom dia, pergunta o nome da pessoa e responde que é um prazer conhecer ela, citando o nome da pessoa\n",
        "a = input('Bom dia! Qual é o seu nome? ')\n",
        "print('Um prazer em conhecer você,', a)\n"
      ],
      "metadata": {
        "id": "310rm0wav-Ox"
      },
      "execution_count": null,
      "outputs": []
    },
    {
      "cell_type": "code",
      "source": [
        "#ex 03 03faça um programa que calcule a raiz quadrada de um númeri e exiba o resultado\n",
        "a = float(input('Digite um número:'))\n",
        "b = a**2\n",
        "print('Raiz quadrada de', a ,'é', b)"
      ],
      "metadata": {
        "id": "nz09ynWLwTRo"
      },
      "execution_count": null,
      "outputs": []
    },
    {
      "cell_type": "code",
      "source": [
        "#ex03-faço um programa que exiba o dobro de um número inserido pelo o usuário\n",
        "a = int(input('Digite um numero:'))\n",
        "b = a * 2\n",
        "print('O dobro de',a,'é',b)"
      ],
      "metadata": {
        "id": "rG9ZXdNGx8-5"
      },
      "execution_count": null,
      "outputs": []
    },
    {
      "cell_type": "code",
      "source": [
        "#Estruturas de condicionais\n",
        "a = int(input('Qual é a sua idade?'))\n",
        "\n",
        "if a >= 18:\n",
        "                  print('você é maior de idade!')\n",
        "                  print('você pode beber')\n"
      ],
      "metadata": {
        "id": "aBUmqhxpf6J8"
      },
      "execution_count": null,
      "outputs": []
    },
    {
      "cell_type": "code",
      "source": [
        "idade = int(input('qual é a sua idade?'))\n",
        "\n",
        "if idade >= 18:\n",
        "  print('você é maior de idade')\n",
        "else:\n",
        "  print('você é menor de idade')"
      ],
      "metadata": {
        "id": "1G3cyXOAjUSl"
      },
      "execution_count": null,
      "outputs": []
    },
    {
      "cell_type": "code",
      "source": [
        "idade = int(input('entra com a sua idade:'))\n",
        "if idade < 18:\n",
        "  print('você é menor de idade')\n",
        "elif idade > 90:\n",
        "  print('cuidade com a saúde')\n",
        "else:\n",
        "  print('você é maior de idade')\n"
      ],
      "metadata": {
        "id": "tuI2TuiykpMK"
      },
      "execution_count": null,
      "outputs": []
    },
    {
      "cell_type": "code",
      "source": [
        "idade = int(input('Qual é a sua idade?'))\n",
        "if 18 <= idade <= 89:\n",
        "  print('você é maior de idade')\n",
        "elif idade >= 90:\n",
        "  print('Você precisa se cuidar')\n",
        "else:\n",
        "  print('você é menor de idade')"
      ],
      "metadata": {
        "id": "ysS4bpsuncnA"
      },
      "execution_count": null,
      "outputs": []
    },
    {
      "cell_type": "code",
      "source": [
        "#Estruturas de repetição\n",
        "#numero\n",
        "#1\n",
        "#10.0\n",
        "#-4\n",
        "#-7,5\n",
        "#Quando faço operação com número gerar outro número\n",
        "#booleanos\n",
        "True\n",
        "False\n",
        "#Quando faço operação com booleanos gerar outro booleano\n",
        "if True:\n",
        "  print('Isso é verdade')\n",
        "else:\n",
        "  print('Isso nunca vai acontecer')\n",
        "\n"
      ],
      "metadata": {
        "id": "jIyreVYdntEs"
      },
      "execution_count": null,
      "outputs": []
    },
    {
      "cell_type": "code",
      "source": [
        "condicao = 12 > 18 #Thue ou False\n",
        "\n",
        "if condicao:\n",
        "   print('Isso é verdade')\n",
        "else:\n",
        "  print('Isso nunca vai acontecer')"
      ],
      "metadata": {
        "id": "Ub8Jvto8nhPw"
      },
      "execution_count": null,
      "outputs": []
    },
    {
      "cell_type": "code",
      "source": [
        "#Exercicio: A idade da pessoa e se ela tem cnh.\n",
        "idade = int(input('Entre com a sua idade:'))\n",
        "cnh = input('você tem CNH?')\n",
        "if idade >= 18 and cnh== 'sim': #and = e ( então é uma condição. para ser verdade as suas precisa ser verdade)\n",
        "  print('siga em frente')\n",
        "else:\n",
        "  print('Preço em nome da lei')\n"
      ],
      "metadata": {
        "id": "k2yizTxJ4ks-"
      },
      "execution_count": null,
      "outputs": []
    },
    {
      "cell_type": "markdown",
      "source": [
        "# **TABELA VERDADE**"
      ],
      "metadata": {
        "id": "iMEN5DsZ6ndV"
      }
    },
    {
      "cell_type": "markdown",
      "source": [
        "![image.png](data:image/png;base64,iVBORw0KGgoAAAANSUhEUgAAAg0AAAHwCAYAAAAl/FzOAAAAAXNSR0IArs4c6QAAAARnQU1BAACxjwv8YQUAAAAJcEhZcwAADsMAAA7DAcdvqGQAALk2SURBVHhe7L13nBzFmf//qeowMzubpJVWqxyRdhVW2lVCEhISIgeDARsw2ATf2XCHwwXbfH0YY+z7cg7YxvhrssFHNL87HMgZgQgiSCAEAkkoIqG0OcxMh6rfH9Xd2zM7u9qsDc+bV6Hd7q7unZ6nqz/11FNPsUQiIdFNDh8+jLq6OkSjURQVFSEej4NzDsYYOOeZhxMEQRAEcQSEEJBSwnVdNDc3o6qqCslkEoWFhSgqKso8vE9g3REN1dXVOHz4MCZNmoTc3FwSCARBEATRiwgh0NjYiF27dmHEiBEYNmxY5iG9SpdEgxACe/fuDdQOiQWCIAiC6DuEEDh8+DDq6+sxduxYMMYyD+kVOi0aEokE9uzZg7KyMhiGkbmbIAiCIIg+wrZtfPTRR5g4cSKi0Wjm7h6nU6LBsizs378f06ZNI+8CQRAEQfQDhBDYunUrxowZ0+ud+Q6LhkQigZqaGkyePLnP3CAEQRAEQRwZKSW2b9+OoqKiXvU4dMhdIITA7t27MWnSJBIMBEEQBNHPYIxh8uTJ2LlzJ6TskC+gS3TI07Bnzx5MmjSp190eBEEQBEF0Hdu2sXPnTowfPz5zV49wRE9DdXU1CgsLSTAQBEEQRD/HMAzk5+ejpqYmc1ePcETRcPDgwaOWRIIgCIIgiM4xYsQIHDx4MHNzj9Du8ERVVRVycnL6PHkEQRAEQRBdp7q6GolEosc7/e16Gmpra5GXl5e5mSAIgiCIfkx+fj5qa2szN3ebNkWDZVnQNA2apmXuIgiCIAiiH+O/vy3LytzVLdoUDQ0NDRg5ciRNsSQIgiCIAQZjDCNHjkRjY2Pmrm7RpmhIpVKIx+OZmwmCIAiCGADE43Ekk8nMzd2iXdFAQxMEQRAEMTDp0+EJx3FINBAEQRDEAEXTNDiOk7m5W7QpGnRdp3gGgiAIghigMMZ6vPPfpmhIJpMkGgiCIAhigMIY67uYBoIgCIIgiDAkGgiCIAiC6BAkGgiCIAiC6BAkGgiCIAiC6BAkGgiCIAiC6BAkGgiCIAiC6BAkGgiCIAiinyOlzFr6GhINBEEQBDEAyCYUMkVEZulpSDQQBEEQBNEhSDQQBEEQRD8n04PQW56EI0GigSAIgiCIDsESiURWqbJ582ZUVFRkboZt23BdF6ZpZu4KoDUrCIIgOkZn28uu9i47ex304bX66jrow2t19TqdxXGcdhemeu+991BWVpa5uct0WDRIKeG6Lqqrq1FXV9fmDWxrO0EQBJFOV9rLrr6MBuO1+uo66ONrdQRN02DbNkzTxKhRoxCJRDIPAY62aKitrcX//u//4tlnn21T1XTlxhIEQQxFutpeduVl1JVr9dV10IfX6sp10MfX6gimaSKZTGLixIm44oorcMwxx4BzFXEQvu5RFw2/+MUv8MADDwAAotEoLMuCpmngnMN1XcijFJxBDF58m4pEIkilUnAcB7m5uUgmk4jFYpBSgnOOhoYG6LqeWZ0gegzTNGFZFkzTRCKRQCQSgWVZiEajcF038/Aj0tW2sq9eYH11HfThtbpyHfTxtbLBOQdjDM3NzdB1HYwx6LqOmTNn4vrrr8fcuXODzny/EA0AUFdXhxtvvBEPP/wwGGNgjCEWi6GxsRGapsF1XRiGkVaHIHoCxhgMw0BDQwOEEIjH40ilUoAXZxOJRMAYC5Q2QfQGQggIIWDbNhDq7XHOkZOTk3n4EenKiwhdfBl15Vp9dR304bW6ch308bWyIYRAIpGAYRjQdT0Ympg1axZ+/OMfo3xOOXRDdZr6nWi4//774bouhg8fjqVLl8K2bWiaBiEENdpEj8M5VwpaAjW1NXjzzTeDQNySkhKMHz8e8XgcjDE4jpNZnSB6DCklEokEXnvtNRiGgXg8jsmTJ2PEiBFdekEIITI3HRG/w9ZZunKtrrTnvmews3TlWl35TF25f335mdpCSgnHcWAYBj777DNs3rwZhmFg1qxZuP766/u/aDBNE6WlpbjyyisRi8XAGAtubHs3t6097X2FXamDLtbrqzpoo15X6uAI9fqqDtqo15U6CNVjjEHXdLiuiwMHD+DGG29Ec3MzIpEIjj32WJxxxhkoKCiA67qdbgwIojO4rovde/bgV7/6FVKpFIqLi3HhRRdibvlc8K7YngRkm09AdhjYkR+qLLTXLrdFl56nwfiZ+vha2WBgEEKgqbkJL730Eh577DEwxjBr1iz85Cc/6d+i4cEHH0Q0GsXMmTPxox/9CNFoNDjmSDdWApDM/59/QyV4O0YW1MnYeCQNJ9D6jcVkq01pdKVOl/++zDoAeNu3AejDv68rddDG39cTn8kf/tqzZw9+8IMfoKamBrm5uVi1ahUuueQSFBQUwHGcHlX2BJGJZMDWrVvx/e9/H6lUCiUlJfjGN76BispKxMzs0evtcaT2si06+zLq6nXQh9fq7HXQh9fqq+scCcYY6urq8Le//Q2PPvooHMfBrFmzcMMNN/SZaOhSC+vfCNu2KYaBOCqEXYy+l6unH1CCyMQXr76bWNNUI92VIEiC6Cp+m+cPz0gpIWTnh2q6QruiwR9q8IuP/wf7D0q2Y9QOVaQMfmzZHsbfGSpZ64RLlm3hOl2tl21/tm3drSOz7G+rpNXJVi/Ltu7+fdn2Z9vW6jNlOSZbOWKd8Dao64T/9ZEAmO9dYKzVaahQ6UjpCBK+i1g11q4QXjAuRzQabXXOjhT/vJ0pXavTtWejK/W69ve13tZbpSvX6qs6sr1KIRhjkCJjYx/RrmjIJNy7E0KAdSjwjHuDDy1FXTbcK2TetvTSuk6oyCzbjlSnjXrdrZO1XpY6mfUy97VVjlgny7V65e/rSp02yhHrhK8lOQAGITzRENonwSDBIcABplGh0rUCDaydAqjjVDvNIDybY7oBcA7XEa2euQ6VzL+jA0UyrfV5jlRY154PybKc60gly3mOVLr0mbr4zHfpWlnOc6TSpetktoMZbaKULe9KKZn63Wsfw/jv6t7wvvLMDZ3B9zgQxNGE7JDoK6RUHi3GGQAJ9f/s8UkE0ZPIkFs3rc0L2V5ftIPdEg0E0R/oDTVNEATR35Def4wxCCnSREJfCAYcDdHQMkTDPInkl7ZpqdM5+rpOV+t1hu7U6Uy9rtRBH9ZJo33zIYgeo9u2ShADnD4XDUD2Rv6IL6kj1GmzXhaOWOcI18pKL9Tpar2s9EKdNutl0KE67VzL/5kgepO2bDTzd4IYyvSeaJDI/iYICD2iTEIyNQe6VW6Atggd3+E66H6dDjcgA+nvy9zXFkfpM4kuXpcgOkrYvjLFKtkdQbTQI6JBRbC3XTKPzq7nW8i6t9WGdLLWOQJt1sm6sYWsu7NubCHrtVptSCdrHbS1sYWsu7NubCHrtVptSCdrnSPQZp2MaZhZj/HIbNjbIvN8HTk3lIbN3NSxOqGDjnitrtRB6zroQJ0++0zd+PsyD8iyKZ2u/H1HqBOUtsQDlHAOWjQvAVlmIjKCGMz0nmhgzHv40tODMiCrlAgj1UEB/q/t1cl2QJZN6fg9iCzXapN26rRXL7MOOlAnuFb6po7V6czf15U6yH5Alk3ptPeZOnTRDrwcfMLn6+C52zwk68YWsu7OurGFrNdqtSGdHquDtja2kHV31o0tZL1Wqw3pZK1zBNqsk3VjC1l3+ycLFenNiEiz1WyVQ8KBIIYCPSIauob0EggLSIiOvwg80noG3ajXEfqqDrpY72jV6Wq9jhLUCTfimQcRRA/j21owLJZ5AEEMYY6eaAgre4JAFmWRxT4yvRQE0ZtIZLdDdGAdFoIYjPQLu8/0DnaEzDpdrdcR+qoOuljvaNXpar226MgxBNHbsIxcfNnwt3OoBdloeILIJLy0QtZlFgYobT0TBEEQxBChzfWDiG4RFg2DBRINBEEQ/QSZkeWvN1EiQQQrJRKdR4gjfV8kGrLCIFqKlGoKUlBEWiSRGrJuPdtioCKECyEEHMcBYwy2bUPTOAC1CmhjYyMiEROWZcG2LQghEImYiERMMK4WFDFNE4BEMpkEAGgah+PYSCSaYRiGt5LeEMSLb/Bdv512A3v1W5V2kF54biuOUK+rdVod0mpDOuE6vs0Jx4FwXXDOoWkabNuGaZrgnEPXdTCNwYWAZVlwXbWkc248B9JbpVHTNJimgXg87tmzCzNiwhYuuMbBuLJrQ9cAISHbecl05TN14GtpRY9/T5mljf0cAA8vBsQYJGeAv9JqN9B1HbpugHOGaDQK13XhZ0h3HBuGYQDe8tyGoYMxBtd1wDlDKpUEY3575AYvKcYZNI1D875HP+W6pnEYhq5Wqc2Sjnigex445xDCRTKZRCwWTduXSiWRSqWg6xo0jYN790fXNRiGAdM0YRgGuMaDe8A5B+ccrutASgld18C5Wv/Btm0I4ao6nMEwDQjhwrKstOsOFlgikchqFZs3b8a8efPStjU0NODGG2/EQw89BE3TMGPGDPz0pz9FJBJpOShz7p7/oHqbZOjngAE8z7m6ugqJRAKmGYHj2HBdF6NGlUDXdSSTCcTjca+BUQZ44MAB7N69G1u2bMG6devw8ccfo6qqCvF4HLFYDLNnz8KSJUtQXj4XJSWjkJeXj0gkgoaGhqDRyGSgPtidgWscruNgz549uOaa/4Pa2lrk5uZi5crjcfkVVyAaiQ65NShM00QikUAsFoOUEpaVguO4YIzBcR3s2L4de/fuxdtvv43169fj4MFDiEQiiERMjB8/HvPmVWDevHmYPv0Y5OTEwTlHNKqeZdu2UVdXH4hd11VyoKRkNGKxGFzXzfxzBg2ZbVRYqHLO8NFHH+F73/seAIbi4pH45jevRGVlJXRdbzmwC2iaBkAilUqhtrYWUgKpVCp4GeXl5QOQ0HUDjDFwzmFZVvDy+uSTT7Bh/QZs+3QbPv74E+zf/zk0TUNJyWiMHDkSxx57LMrLyzFlymQIKRGLRsG5BilF2gfOfI4yfx8IOI56uUejql0Ir8as6zqamppQVFSEQ4cOgjGOVCqFTz/9FK+++iq2bduGbdu2oaamGsOHD8eECRMwffoMLFywADNnzUIsFkM8HodhGHAcB5FIBI2NjaiqqoJt2wAkEokExowdi4hpQtcNOI4NzrUO3UveRnMupXpR1tfX48knn8T9998PIQTmzp2Ln/zkesyePQumaba6xoYNG1BWVpa2rTuQaOgCzFthTEqJ5557Fr/61a+QTCahaRri8TguvfQyfPGLX/QUvjLQffv2YePG9/Hiiy/iw02b0NjUBNdVCl8quQ8pJXLiOWhuTiAnJ4Zjjz0Wq1evxty58zB27BhwrmX+KQCJhiErGmzbRiRiIpWyoOsa4vFcfP755/jkk4+xZs0avPrqWuzZvQuM8+DecK4BXuPjOi7iuXHMm1eB1atXY/HixRg9ugQAkEpZePDBB3H/ffdheNEwHD5cheHDh+Mf//EbOPnkk8G9nrWUavGcwURmG9XbosG/h5yrtrOurg4bN27E/7nmGkjP7VFQUIAvfvFcXHXVVXCFC+G6aGpqRn29Ovb555/HG6+/jobGRgBKUHDOACnhuC6k6yInHodpmli6bBnOOONMzJgxAyNHjoTrqheq/z0ylu41GYjfr5RSeRE4R3NzM0yz5R3FmNqfSlnYt28fXn/9NTz37HP4YNOm4LtgTIkL23bgOpbyMmkaxo0fj9NPPwNLlizBtGnTEM+Nw0pZeOWVV3D//ffhs88+g+u6iMVy8NWvfhXnn38+TNP0PNCDQzR036fWVWSoDECklBDCBcBw8MABJBIJJBPNqKqqQmNjI2KxKDjn2LFjO/6//+//w89+egN++9ub8cqal1FbWwPbsuDYFoRjQ7gOwCQ0XUMqlQJjDKlkCi8+/wJ+cv31uPnmm/HGG2/Atm3P2IfocAWRhj8EYZpq+OvNN9/EnXfeiV/+4uf4858fwd7PPgPjysMFKeHYNqRw4boOrGQSYECiuRmvv/4abrrpJvz617/G66+/jsbGRnDOcfjQQTQ1N+HTbZ+ivr4Bhw9XwbIsMKZc3r77dlDSh+2TEMo7JIRawRAAqqqq0NDYgOamJjQ3N+Oz3buxdetWpFJJJBIJ7N27F3/721/xo2t/hOuv/wmef/4FNCeSSutIAde14diOGuIAA9c0JJMpNDY24umnn8J11/0IN930K2zc+D5cVw1nWJaFaDSW+ecNSDjnYIzDth0AaljGdV3PEwDU1NTiySefxM9+9jP8v//3//D+++8FHTjGAMe2kUwk4To2GNfANTUctHvXTtx115342U9vwKOPPorP9uyBaRpIJhPYunUrDh86hLraWhw4cACuq4au4QmVwcLREw2emPfLQIExP8OlMjDLSoFrGjhjaG5qRnNTE5qamlBTU4O33nobv/vdLfjjH/+I9e++g/r6ejDGIVwJMOWFYFwDvOEL/25I1wFjAOOA7TjYsGE9br31Vrz66quB200JFmIow1iLG/bDDz/CnXfcgf/9n//Blk+2wHUdJRiEVDEPUgCMwXYcSABc16FpGlzHges4aGxsxJo1L+PnP/8FHn74YXz88cdoaGgMbC3cGw16pIOsMfQJt0t98fGklGCcKcEg1TCFEEINVzAGKQSkFKirq0NTUxO2f7odd9xxJ+688068te5NNDc1QLgOpFR1dF1Xw6FCKCEiVLCjEEJ5HYREQ0MDXnzxJdx++x146623PE+pPmiCIqVUMWXMixnzYz8Mw8Dhw4fx+9//Hr+7+Wa8994GJJMpgKl4BeG6SkSpFl7deyHANRUjIYUAA8On23fgoYcewp/+9Cds2bIVNTU1sCxbtd9Ses+LCjSVkGA9EPPSXxg8n6QPUYFQyuWbn58P13WRTCRUE8MYDh48iJdffhl33nkHXnv1FaS8AEfhWGrcOCeG3Nw4ikYUoWR0CUaPHo3CwmGIxaJw7RQisZhqjZmGaDSGqsOHseWTLXjg/v/G5s2bkZub6yloYigjhEQ0GsO6detw2223Ye3aV9Hc1ACu6YjFciBcF8JVPSVdN1BYOAyjR4/B+PHjUVIyGqYZQTQnDt0wIFwHqUQzdm7fhkceeQS/+93v8O76d5FMJsG4Ds61IHDMMHQ4jgvHcb1xeKKr+MGJnDEwKLe4L8psz6OoGyaYpmKkXn55DX73u5vx1FNPorq6GoCEGYkiJx5Hbm4ecuJxlIwegzFjxqK4ZBRGFhcjEouCa3rgNpEArGQSjuPgjddfx3333Y8tW7YgPz8fTU1N3l/WBy6WPkR5EYAdO3bgF7/4JV566SVUVx1WosqbRcIYh6YrW4/H4xgxYgTGjh+PMWPHIj+/AJpuAmBwhUA0GsX+z/fhL48+il/96ld49tnnPE+wqwSc6wRxFJ0VnypPcpbSmZP0Itq11157feZGADh8+DBKStT4po9lWVi7di02bdoEzjlGjBiBE044AVraWF4bt6hjm/o9jDEv4lgZ2wcfbMLatWsBxhCNRcEYx6FDh/Duu+uxe/cuJJNJ2FYK0ZxcDBs+HHPK52LVqhNw+uln4JJLvopLLrkEq1efiMmTJyM/vwBc01FfX49UMgFN05BKJGFGIxBCoLGpCfX19Zg1aybi8RzV2AxmF3EIxlWPq76+Hs8//wKSySRM08SkSZNQUVHh9a4GokV1nMzvWQgXa9euxcMPP4zXXlsL04wglpMDx3WRSjSBARhWNBLl5XOwaNEifPGL5+Kyyy7F+ed/CccfvwJz55YjNy8XkWhUnZsx2JaNRDKFvXs/Q2Oj8jSo+AWGSCSCpUuXoKysDLZtQUoVlJf5dw1mGGM4dOgQnnvuOQAM8XgcCxYswOjRo4M4j07hzV5gnHvvaRW0t23bNrzx5huwLQtCSHCuwbYtbPlkCzZsWA/HdQEpEIkpsVBaWob58ytx/vnn46KLLsJ5552LE044AVOnTgXnHHl5+RBCDUEI11UXZhzCdfDZns8gITFnzhxvFoFqz5VJtHiWBhLSi01QQz/qM9XV1eGRRx7Byy+/hMMHD8CIRL2ZJgLcm3k0ZswYLFy4EGeeeRa++tWv4stfvgBnnHEGKioqMGnSROTlF8BxHCSTSW92hMSe3btw6HAVpFCzmbhmgHENy5cfh5kzZ8IwTO8ZyX4vM58elunqCr1SGVRw7NatW7Fx40ZIKVFSUoJVq1aiuLg4a9zE/v37MXLkyLRt3aFHRAM39NAHU73tbB/Y25u5aUCzY8cOPPvM02CcB2ODzc3NaGxshOu6iESiKCoqwooVK3Deeefh4ksuxorlKzBzZhlKSkqQm5uL4cOLUFpaihUrVqCiogKFhQVobGhAY0MDpFRPr+u6sFIpHDhwAGPHjsP06cd4hj54XIrtQaIhjITrCuzbtw/33nsvXlnzcrA9mUhASgEzGsXMWbNwzjnn4Bvf+AZOP/0MzJgxA8OGDUdeXh5GjCjC9OnTccIJq3HssYsxfvwEWJaFxqZmNNbXKU+aF1AnhHLXRqNRLFmyBNOnT0ckomYLqej7zGZv8NLjogEAID0vg/I0uK7A1q1b8fLLa8C4inVgjMG2LVRVVakXE4ARI4uxePGx+NrXvoYLLvgyTjvtNEydOg1FReo7Li4uRnl5OVatOgHLli1DPJ6DQwcPor6+HkIAkUgEQrjgmo6PN2/G1ClTMWNGqedF9ZryNl50AwHmzSphjKO+vh5PPPEEHnnkz6iqqgbjaggI3rto1KhROOmkk3HppZfikksuxtKlSzF8+HCMGDECBQUFmDBhPObPX4CFCxdi4cIFyM3NRV19HRobGtQwCGcwTBOc62p6K+M47rhlKC0thWH4wrqdexl6MbZxBAA1zyBlpbB121Z8cJREQ1etnABaRRn7MG86lGmamDZtKi6/4gpcddU/4ZxzzsHYMWMQi8W8HppyMYcThEybNg0XXHABvvHNb6KoaERgBJqmQwKor6vDAw/cj/3796v6cvALBkKh7EA1dikrhVdeeQXr16+HY1sAY3BcFbfgv9z/+Z+vxle+8hUUF48KziE9D5maIqx6TIWFhTj99NNw9dXq+OkzZkBK1QNzHQu6Yab9HekiYegIht6CedOxVWOf7ZWh3OeObSnvQiSC6aVlOP/8L+Fb3/oWTj31VBQXjwLnKs+AP8vKj2PQdR25ubm44IIL8ZWLL8bUadNgmAZsy1JBfly1V3fddVeQK0ZddiB/ty3Zfxhj2LjxfTzzzDOoqanx2ls1hVjTdEyYOAkXXXQRrr76aixfvhyapiORUJ5eNcSgXvhCCowYMQKzZ8/G5Zdfjq9//etYumwZ4vFcCNeB46jAR9dtiSHpCrKNktU0jgLZ33rEEVG9AqVk1bepvlpljGq6TkVFBa688iqce+55GDd+nBe5yzyDUgaW2UvTdR2xWAyVlZW47PLLAQY1/MMA4brQNB0HDx7Ca6+95gXuiFbKkhhcKBtRkfX+NLC9n+3FunVvIpVSjbwULgxDh2GYKC0rw+WXX4558+YhNzcvrQesospVMiDDMBCP50DXlbeqtLQUV1xxOf7xG9/AlKnTwDkH1ww4tpoxAc/uiZ7Fb0vCv/v4zYMUAsJ1YUYimDGjFJdffhkuvfRSlJSMQiqVhOYF6vmdCD8ngCsEGANMU+V4OfPMM3H22edg+PAiCNeBrnueIsax/8ABPPvsM8G1B813zYC3334HWz75BI6XR8EnGo3giisux5e+9CUMHz48mF2haZoKFHYdCCFUEKWug3tTOPPz87B69Wp8/ev/gKXLliEazYFwbLiO7QVTOl5uky4Q8jqkldCr4mh+M0dNNDCp5qN2OstfP8N1VWQtJCBcAXjBTCtWrMBVV12JZcuWIi8vD67jQDcMNcfai2rORAgXzc1N0HUd8Xgc5557LubNq0AikQiOt60kEolmrFu3DpqmErN0VdESAwSmeqPMG88EgHfeeQcffLARyUQSRiQWeKMmTpqIyy67HBUVlYhGo0Ej6L+YGFO5BhjjcBwXyaSa/ROJRLx8DwZWrDgeJ5ywWg1NSKFm+Agv26uQ6mchAaGi/YnegXvtJJMMhmYgEolh9szZuOqb38Rpp52OwsLC4OXmiwTpDWUEnRohIYSKPYnlxKBpGs4660xUVlYgryAfjmWpISZvpsHf//4YLEtNzfSTSA1EmJf4SkrgvQ3v4dlnn0EimQiChP1y7rnn4YQTTsCYMWNRU1MN0zSgaaqu4zjKa8NURy+RUHEMw4YpccEYR2lpKZYuXYpoLAbD9DxyoWet2wSZldWvwfsy9P7kfZzn6KiJhsEC8wxKfWtKkebl5WPWrFkoLS2DZdlobGyAYZiwUl6SkFCynTAqQt1AIpHwXIwSF154AXJz43AdS80V5jpSiQT27z+A9957H83NCRINgx0Z/A/RaBSHDx/ChvXrUVdbD8exYKcS4FyHrnEsXboUlZWVmWcAPI+FP1edczUVTdM4HNtBQ4PKzWBZKaRSKS+1OcBCzdGA9lYPVKRyswsv1fPMmTMxf/58SCnhODY0TYeu615Qnhpm8PFnePlDUlZKBVUWFRVh+fIVMAwT4MoFb0QiSCWacfDgARw+fBh5eXkDelq3xtXMM65xvPLKK96sEHUvmpuakGhqxPjx43DqqacgLy8PVVVVGDt2HJqamiElYJqR4P6puA6OWEydTw1xyCDltK7rKhuwUFMrlWDI3sYPBkg0dBPDMADhepHGyuPgODYKCvKRk5ODeDwO27ZhWRYiERVF295LPpVKIicnB0KorGLHHrsEw4YNB/cinRnnYFzD4cOHsXPnTuTm5tK0t0GMlBKcK2EqPU/Drl278NFHH6qob6bsAZAYN348lixZikgkPQbBx/dGGIbhRdKn4LhqWCM/Xw1jcK56roGNBu1ehn+U6Bs817QQArbtQAo1RCWlhGXZME0/lbHZag2JTHRdRzQaRXNzAscfvwLFxcXQNQ4eGvpsbGzEO++84wXAtn++3sa/dra/wRdC2fbB2y+EQHVVFT766CM0NjQo8eWlPzciERx33HJMnjwZjuMiNzc38PLC8/qGz80Yg+PYcGwbcS+zpr8uixoytINZGIOdwf8J+xDmZx3zknxYlgXLUi5fTfeDatofKzQMlRaYcw2u6yIajWL16tXwfV1CuABjSCaTqKur9RKYZJ6FGEyotkv1eIRwcfDgAezbt0/tAxDPzYPGGWbOnImxY8ekp3UP4TekjqMaTt+l7Thu4HpVwoHBsdU6KgwMamDEIyOiniG8OF3LYUTnCe5lqGGWUg0BMS8exU9YxKQEByBdFcyn1hxpu3fLmEpspBYs01FcXIxJkyZBeLMLXNcBOENzc3OQTjnbEGpfoTwkbcRrZdmUieuJA7UGx36Vst+/kQDi8ThWrjwesVgOotEImpqaAq8N87zH4c6dmhmn2ufg+hKQQp1TfU8tIqc9QZMV2Ubph5Bo6CZhw5BggDfnmnvzfjVvvBieJyLrQxCCeTno1dizWnlt9uzZyn68ulIKuN4KmolEgtzGQwDfbpqamvH55/tVZjquBStOmmbEEw1j2/Q8sdBYN8IvJG+2j/9S8r0aUijXeKbFBoIhLByyHEd0jOB78QaDgndS8GD7uTKUx0HjGhgYNK4FPee2hjzDqN6wOta2bUyfPgOccdWZ8To8Qgg01NdDeAGURwsZWgPC/116mRYduyW7I9eyv8KU6JDYt28vamqqvXTqqg2GlJg+fQamTJniBQEr743vWVHXTb+f/vPhPzNh/DgSePl7vK3pB7VD+PnJVvob2e840Ul6/qtlnjvMMEwUFxdn7gbnDLW1taivr+ucoiUGFJkvgtraWmzY8B6k36gx1TuMxHIwZswYFBYWtjv81Vn8mAYezBRKF8rEwEK9eFUvury8HIZppDVfUkokk2p9C98T1df49qWmPHqeFa+YZgSxWBRCCCSTCbih1SvDCCG8dP61XrxHy7OUk5uLxYsXg3mBvtnwr9cRhtrzQKKhu3j20tOqUAiJ5uYEHMdGJBKBzAhKkhJoaGhEIhGaV00MehobG7Fjx3avQVNJgYRjIxaLwrYd1NXVw26jIe0SIaNWNh5+w/SszRPpMGR0WLv9bvLWQvCEw6RJE4Mx/DBqVk2yz8fn/Zev/7IOAhE9wcoYC+LDGOMwDFN5DrKgxE8CDQ0NcBwVn+AXy0phzpw5MHQDrrev3yJbir/6Zbvvmj74KNnvONFh/BsYHtP1p5N2BfVwqLOqKZVATk6Olzu+hWSiGU1NjWnrxBODH03jOHz4MDhncB21SBHXDYwYMRJ5eXkwTROR0DLAPYU/1h7EL3i2T3EMvQeToQba+9m/911BueeVy991HeTl5WUVDYypTosaJu3q1TqO/zL3xQE8T4HjOIhGo8Gb0F94CvCXEVcLfbVFKpVCfX2991vL29exbAwfPhxRLz1/mLBXo73SV/jPmW8H/pTLzOfOf+f0xV921ESDDC3EQe1OC2FlrWlcRew6TivVL1wHtm0Hy2UTQw0vXbuHrutqmpwUwYqUPYHfQEo1ZAvpdXP851f2RSs1RPHveQBTb/SuPu0dedeptufouNz9WULMWzMCAGpqqvHAAw/gkUf+jK1btyAWy4Gm8RZPSDt/pmXZSCQSmZuJbnLUREPgY/EL0Qp/TM9x3CA1bLBPNxGJRBCJRPpU+RJ9S9itmh3vpe6NRTd788x7Al+8ul4D7p82OH3mS43oUQKR5gk0MLUwgeziXffbCf97BaDcD1kMhrGsm3uFlr9HiQUVAK5yIKxfvwEPP/QQbrn5ZvzsZz/Dyy+/DNcVyMlRU9kz8debkFLCtpVoyPQmdEg9EW3SI6IhnJkqWwnbuP8g9JE99jyZn60dOnpcJsyLZhdCRQunUilvGKLF2DVdR0FBAUzTX0GNGKyoxl49SJalEvoE7Z7nQm5qaoTt2IhGI628Ul1FMuZ5AyWEVNcXUgSJhqRUry/BWgrRdaR/H32REN4Xmn4oZdfuOWNqBU2/vaiurvFSHbcIUymll7DIQDKZaLdtYUxNK/c9ov6QgT+TozNFDZOoIQruZXPUNA07d+7Egf0HkEhZeOedd/Gzn/0Mf/nLX9DUpFZgtW0LiURzkOBK19SUSV3XYJpmkPNGxUeowr300IypGRHqmgypVCrtPrT32YcyPdO6dBFfT9BXkx0pJXJy4l4+89Yu5/z8fOTm5oKRch7ktDwhjuMgLzcXjmV53mrVs2poaISVUmlze6KxU4051LUz5+v7QxXpW4leQt1rb/zezwnQBYQQwXRcTdPw4YcfImWptOQ+/rl1bw2c9toWKYWX+0HAMExwL7tkVzJJSk+Y6rrKJRGLxZBIJrB8+XKsWr0aGgdc18bB/Z/jl7/4OX77299i+/btiMdzYRgm6uvrEY1G4bgqDoJzDTk5OYjFotAy4sEYY7AsG7ZtwTQNWFYKnGuIx3PSjiOyc/REAwsVIiu2rdT2J1u2AK28ahIFBQXIy8sNbyQGJX78AkNOTgwlo0eDa1rQcwKARCKBZDLh9Roz+6ldQ70wvN5tKKYh7d/MSkSPIVlLDAmgvEqSsS7Fkfg9Zz+bpGGYeP/997y1TFpiAzjnQYCkbbfuqPikn0/AsixPlOithlKPhJRSLbwHwDBUoioAcGwb48ePx3e+8x189WuXIRaNQjcjEFLiwQcewE033YRnnnkamsYRjUZVgKfjoq6uDvACJw3DaDUaIVwHO3bsQDKpBBP3lnfPNtxBtOboiYbB4mbw/v7ws50Z2dpV1FicxGuvvea9DFpOHItGMWzYMJWhjBjUSPjjzhKFhYWYPv0YmJEIEMpc5zoOmpqag997mrTZE+F/Mw8kOoV/D4MSmpnSG3DOEYlE4Loutm7dBuE4YLxlIq1p6Jg8eXIwU6E9rwbjHG+++Sb++Md7cPvtt+EPf/gD7rzzTtx+++247bbbOlxuv/123HHHHbj11ttw++134LbbbsMtt9yCu+66C7fdfhueevop2LaFktFjwAAkmxMAY3jjjTfwq1/8Anfcfgeam5uDDJa5ubmQUiIej2PkyOJW3hIJ4O2334IQah0WTde8oYm0w4g26C3b7BDhh2WgEvz9IQHUU58pHs/F559/jrfeeruVuBpeNAKjR48BvHFAYhDjffdSAoWFhZgwYQKE63q5O9Sqk1YqhR07dqCxsTFYbKrXIMHQY4TbwNZCTP3UEy8z9fL31jCREtu3f4rPP98HeCuo+sGV+QWFmD17NnRda8mA2AbCdfHa66/h7rvvxp/uvRf33nsP7rvvPtx7zx/xx7vu6nS55+67cOcdd+BP9/wR995zN+695x7c+8e7cfddd+HhBx9CVVUVbMcG4yqrIwDs3bcPDz/8MJ5//nnEYlEkkypvjW3b0HUdY8eOQU5OxrCDFPjwww/R0NCoPruXu8EPKg8XojVHVTQQ7Y9PJhIJ/PWvf0WiqREsIzXwxIkTUVpa2m59YjChGrFINIqSktHInHqXtFL44IONOHDgIDV2g4SefLb94FjLstHc3IzHH38Ce/fuA+MqANF/CU+YMBHl5XPAvTT4bcG5WvXRcRw0NTbASllINDWjvrYGjY1NSFqpzpVUEpbjIJFMIGlZsB0BxxWwHbUkte26qK+rA/y4DL+DxjU0NTejtrbWE8wGbNtCXl4uNI1j8uQpKC4elfa3m5Eo9uzZgw0b1kMIteibpumwHTV9PVyI1vSIaPA72W2VVmTd2I9p58MEm5ma7qN543mMqaAlMHiLwqiG3HcfZzNKP6hNegsL7du3F48++ijg5T1X55CIREyUlZWioCC/1TmIwUdgS5CwLQsjRoxAcfEoaF6Pi2mqt7R37z7s2LEdTU1NwYp7/svCt5O2kuH4PSt/6eza2lrPuL1c/P5xocWqAtp5PogsHOl+edvVXVbPPLyefVttB8Lfsff9yFC747cpql35HK+//hoc21JtTmg4a9q0aYhGY6FEUNntRUqJRCKBsWPGYF5FJeZVVqB83lzMmlOOmTPLUFbaiTKjFGWlZZhZ5peZKC0txcyZ6t8ZM2bgmKlTccz06TCjsZb2VEpEIhEsWrQI8+dXBvYejUbR0NAIABg7dixGjSoOtZ+AbVmwkkm89dbbqK6uBucMkWgEKS/Gwcf3tPj3MXzf/W2JRAL19fXB7y0zR1qu12nasQ8JzyQyZiC2U6XH6RnR4AXstFVC/rYWV1z4BP0c5t0ov7Ta6X1ZjHMYZgTgDA1NTUimUgDn0Aw/qrilIedcTfPxpykJ4XrToQS4xpFINOOvf/0rqqqqAsXPGIOu6Rg3bjwWLlzYKiqYGJz4mkG1VwxTpkzB8uXH+TrCmzqm4fPP9+Hvf/87du/eDdd1YRgGNM0XnGqFVH+BI3VephZV09UaA6ZpwnFsPPfc83j5pZfAAGicQ9P8BtBz2/r/emKizWeDyEp79yscD5WW/dFLoWzbFpqamoJ8Bv6LyXXd0AqNar0GwzDAOYP04qFc10V9fT0eeeQRbN++3VvESYJxDk03EI/HccklFwcL4oWnZ2aDMYYzzzwTP//5f+G//uvn+OUvf4Vf//rX+M1vb8Zvb74Zv/ntbztWbr4Zv/7tb3DTr3+NX//mt/j1b36D3/3ud/j5z3+Om266CTfddBMuvfwyjCgqgnAdb+gEKCgowNlnn41vf/vbKCsrgxAqm24ikYSmqaW9i4uLsXDhIuTl5Xl2DGi6AQB44403sHbtWjQ2NoEBMAy13Uct4KWEmr+6qBISAmBqJtNbb72Fl156EbZlAcHUVXHEZcrbI2wfme9JGZqSG0zRbeNd21tks1uii6i0zwIpK4lnnnkaz7/wAhKJBBKJZBCcpp5xGSRtUvOkAV03EI1GYRgmhOvimWeewRNPPAnbSqkVDb2oX8Y5TjzxJMyZU+69FFTkLzG48XsykYiJwsJCzJo1CyNGFoN5q/xxL5hty5at+PvfH0NzczMc14HrqoV9uKYhFsuBEOFeqlQvBqFeKA0NDbjttttw6623orr6cCA0OhsNT/Qc/jtA13VAAps3b8arr76KVErNrNJ1HYapZgi4rgMwb/lm77vVNB2al/fAdmw88cQTePnll71FnFSHBVJC0zScd955mDhpEgCVN6G9FPW+xyMez8Xo0aMxduwYjBs3Lihjx47FuHGdKeMwdty44PfJkyejuLgYI0aMwEsvvYQ/3n033nj9NTiOA103MHHSFPzHtdfi6m9djekzpgfrS/goT4lazXPZsmWYOnUqIJUQYAwoGjkShw4cwF/+8ih27doJx1EZdn1vgvQ8M7FYDKZpQjk2VN4cTdMhXBfPPfcs/vu//xsffLAJYAy6Yap23pv2PFibZRINPYiQArZtw3UFNm3ahN/f8js8+OADSKWS3tQf5f6VEtB09cD7S7s6joNEIoHDhw/hsccex9133426ujoI14XmLd/KGMf06dNx1llnwbJSaG5ubnPBFmLw4QuHeDyOOXPmYE55OXRd2RXAwDUNNTU1+Pvf/4bHH38C+z/fj+bmZphmBI7toLGxEYaheqPqfGpamhAuPvtsD27+3c14/PHH1dAE1FLCmqbDDXkniF4i5FVoq7OomyY++fhj3Pzb3+C///tP+Oyzz+A4DpqbmpCbmwuAQbgCtq0Ege9Z4FxDUVERnn7qaTzyyJ/x+eefB7YETwBMnToFX/vapaitqQXnHM3NzSHbao3qdWswDB26bngvXSujqDT3RyqW5R1r2V7+BBtNTU0AJNaseRn3338/du/eA80wEYnGsHjxIvz4+utx9tnnICeWA0ggEklPaqZpGlzXheu6GDWqGPPmzUMkGgGkhG3ZqK2uhhAudu/ejZtuugl79nwGLWOZbd3QVXxGKhkMN+i6jlQqhUcf/Qtuv/0ObFj/DhwvFsJ1XTXUEwRSpp1u0HDU3jj+Ahs8y+IbA4lUKqW8A55gEMKFrungnOHggQP4w//7A775zW/ipRdfQGNjI6RUPQLhupCQcLwHxM++ducdd+In11+HQwcPwLYt5OTmw04llToeMQJXXnklRo8uQTQaRTQaVdHEg9U6CQBq8SB/aMAVyvU5fvx4nHzySSjwAr5Uo6XWnaivb8DPb/xP3Hzzzfj000+RSqXQ1NSESMREIpEMkvJIqNTTL7zwIr7//e/jgfv+GwcPHICuq5eBen2p4i+e5C+WwwAwIQf0s9sfCLLG+m2id8czs8hKqbxJYByHDlfhjjvuxHe/8x089dRTsG0HVVXVLcOf3gtT0zTE43G8++67+Ld/+zf8/ve/x969+zzBoAIdTdNE0YgRuOLrX0fRiCKMGTMGrusiFosF3tFsqJcigxDKo6GW0eZB0TS9w0XXDei6GkoTQg2r2bYF3TBQW1uLhvpalYjJMHDqqafiuuuuw8KFC1FfXw/TVPX8ITb/b0MwvCAQj+fi3HO/iHnzKtTwMZPQTRNmNIa62jqsf/ddXHLJxfjww49g2ZbXIWuCYzuIRCIwdAO2bSORaMbGjR/g+uuvxy9+8Qvs3bsXjGuwUylAKMGgazo0MHBw8Dbl38BGu/baa6/P3AgAhw8fRklJSdo2y7Kwdu1abNq0CZxzjBgxAieccAK0tJXS/IamfcJHeEO1/Zb2PtHu3bvx1NNPQPOEgqGb3oucw/XTQFsW/v63v+L1115HTW0tpBQ4cOAgdu/ehQMHDmLPns/wxBOP4z9++B94+523wBlXwxIS3hx9YNjw4bjoootw8smnIBKJBC8ROUSmXDKuArbq6+vx/PMvIJlMwjRNTJo0CRUVFcF47mAl+Gzew2IYOuLxOKqqa7Bly1bA6zGqwyQMM4KPN3+EF154EQcPHoAQArt27UZdXR327NmDPXv24NVXXsHNN9+Mhx96CIcOHgTXNEgA0WgMkyZNQm1NjRdQySBcF2YkgqVLluCY6dPBGUPKsltF2Hcl8dBAgjGGQ4cO4bnnngOgvD4LFizA6NGj03q67dHqFnnfLff+dVwXW7dtxctr1gTxCACDlEL16m0LUggcPnwIL695BWvWrEFNTTVSVgrVVVXYv/8A9u3bh82bP8JDDz6Iu+6+C+vXbwimI8Ib6jQMA4au4/zzv4QzzzwLOTkxJJMpSKmSNLmuiptoi/aet/b2ZUMlJGOIRmOwrBR0w4BwXRQWDsPBQ4eRm5eHr33tUnzjG/+IgoJCNDY2oKCgEKlUyhsqUTlt/HbR9WJ61M9qRc9YLAeffLwZdTW1cGwL8OI+bNuB69j43//9X7z77rtBi79v3z5s374dn332GbZu3YqHH3oYv/3tb/DJJx/DdVwAArm5eSjILwADh+1Y3uqgGhiApcuWoWxmmRLo3nfYkfvS7hFMdVS3bt2KjRs3QkqJkpISrFq1EsXFxdC0FvHks3//fowcOTJtW3dgiUQia19h8+bNmDdvXtq2hoYG3HjjjXjooYegaRpmzJiBn/70pzCioaV4+yoaow9JC0jK4Jlnn8H3vvfv0HUDUgqYZgRSSkydOhVVNdU4dOhQ8CU6tg3dG2/kXIOuMVi2Eyh1KVyAMUQiESSam/3IN+QXFuILX/gCvva1S1FUVOQFUCrjEFKgJbZ98MI1DtdxsGfPHlxzzf9BbW0tcnNzsXLl8bj8iisQjURbPSyDGdWYS+zevQd33nknnn32WSSTSSUkpYRh6LAt1YgBMmiEdcMAYxyObYeSRqmseIxzcAb867/9O/Jyc/Hj665Tja6jgsDy8nLx/e//AGeeeSZM00Rzolk1iKE0051ZC2EgwjnDRx99hO9973sAGIqLR+Kb37wSlZWVWZeZzkaaF4F5L1ipgk6lkEhZKTz+5BO44Sc3qFVLhQvGOQoLCzFlyhTs378fVVVVKljRtsE1PUgzb0aigWve9lJEq+/QBtdb8ndwzhCLxXDeeefjq1/7KoYPHw54605YlgXTjMCyrA6LBvVSzL6vK9i2EqScc9TW1iCVsjB6dEngJfGv59s7vL8h/LOnsL34BqCpqQmPP/EE/nTvn7Dvs90AU8+QrpuIRKMQroNkMqWeA65W+9T1lmyR0pvu6QqBiKnqrFixApMmTMRzzz2HTz/9VAktxiEB/Pv3/g3nnX++F0vkdlg0ZHqZfKRUL6L6+no8+eSTuP/++yGEwNy5c/GTn1yP2bNnefEX6dfYsGEDysrK0rZ1h7YtohMELss2ivfdAd6PGZsGNLbdMjzgui6SySTy8/Jx2umn46tf/RqmTp2mPAbBB5YAGFKpJJoaG2GnVKCjlAKMazAME47teBUkcvPycPbZZ+OKK65AcXGxF+HrG4UcAnKByIbqXQFTpkzBVVddhbPOOgvxeE4QuW2nUio1L2dgXAvsTwg1JCb9FMBQJqnpGkaNKsZPf/afOPfcc2EYBgQAVwgwjUNI6a0PkGXBqlAhjkzW+5WRnts/zv9ZSonc3FysXr0aV111FWbNmg3uTZfUNQ1SCBje7JdkMgHL81QyrgGMQfcSfnHOASlQPLIYF198CS666CIUDR8OjWtB3BSgFrZCRhbazhDYRyeLv26FPzNESolhw4Zj2LBh3stfBTeq2DA1NOLHLoSHU1RdAFAzHjRNR048jtNOPRVf+tL5mHbMDEACnOsAY0g0N0FCeR6E48CxbbiOg1QyAdu2wb2ZE1zTACmQn5ePU085BVddeRVKS0uRTCTherE/6o4pD3Hae3CQ0DOi4QilFVk3DmTCS7uqccVxY8fiK1/5Cv793/8dxx13XGDEruPATiUBoUQC1w3VUxACrm3DcWzoho5oTg4WLlqMX910E7773X/B8OHDA9Xvu4T9h4IYmkgp0dTUhAkTJuA73/kOzjvvPIwePRqRiMrPD8hgDr6U0hMPEmYkAk3jsFIpFBWNgG4aWL58Ba6//npceOGFakw30axs2ksipVznDJxx8NAcdOb/r82HnWjFke6Xvz28X0jYtoN4PBcnn3wyrrrqKpxy6qmIxGJgnCEWjwNQ+QF0XcUJaMGQnWp71HRFHbNmz8Z/XHstLr/8cs+lrTwkylWvOkHS69F3FNZDWRR9L0LYwyGEisER3tTHsKAIXzfz2v5x/jk44ygsHIav/8M/4MqrrsKSZUthmgYYJAzTRDKZgG0lAUhwTc1KAVPeH+kND2lcQ2nZTFx99dW45gfXYFRxMRzHgWWpnBfZyL514NJxq+hpwrkcMvcNUMJGI71pUgsXLsCvf/1r/Pa3v8WJJ52EKVOnYviIkYjmxFUsiDdmHIlEEc3JwYQJEzBnTjm++91/wc2/uwVLly0DY2qsL/Na2R4UYmggvcQ2uq6hoaEBRUXD8W//9m/43S234Mwzz8TkKVMwrKgI0ViON19fzVFnDLBTKeTm5mLCxImYMmUKfvGLX+A///NnWLz4WBw+fCgYzw7blj/skLYkM+/a4klEC2GvQ3Bvw16I0P1NJJqRTCah6zqWLVuG/3vjjbjllt/jpJNOwsgRI6BxNcTB/CWfIcEYUFhYgLFjx2LBwoX4wQ++jwceeAArVqyAYRheBsX0hZraexEPdIQQSCVT+OIXv4j/+q+f48qrrsKc8nLkRKPIyYnDMCKIxHLAucrzoHmJn0aOHIl5FfPxj9/4R9x888246MKLIFyBnJycUCcu8AulXXOw0SOBkOljeUrZhmnVIWat72t/Ns3Wn6iFLVu34MUXXwTzPAlSqrm9xy5ejMlTJkP31nkvLS3Fccctx/jx4zFu3HhMn34Mxo8fj/HjJ6C0dAbmzZuH+fMrcfbZZ+Oiiy7EokWLArWfm5uLRDIx6B7gzjDUAyGz4ScEY0wlCXNcFyWjRmHZsmU4/viVmDx5MsaMGY2JEydh8uRJmDp1KmbOnIl5FRVYsmQpzj//fFx99bcwfvyEoFeWSCSQn5+PN998E+vefDO472AMEdPEsuOWYfr0GdA0LViFtYse7AEJ64FAyEx8u/X/dV0XW7duxZo1a1SAn+fx0XUDc+eWo7Ky0nPlq1k0CxcsREVlBaZMmYaRxcWYOnUKjjlmGqZNOwZz5szG0qVLsWzZcfiHf/g6KisrUVdXD84Z8vLykUyq6eBdYaA+b6ZpoLGxCbquY968eVi2bBnmlJdjypSpmHbMMZg4cQKKi4txzDHTUT53LhYvPhYrVx6Pr3zlKzjjjDMQjcbQ3NSEgoICpFIpbNu6Da+++qo3TbSFpUuXYtasWS2BkB0UYe0eMVgCIVU0v0eWQEiBlk2BgFAxHQOC9gIhH3/icfzHf/wHuBfE5AoH+fkF+N73voezv/jF4DjVc1M/G4aa19zc3AzLsqBpau16Jb68ETEvUxtnHK5wIVzRZqBVi8IdvFAgZGtYkPdDeg1/S6rgSCQCx8tCatsqB4iUEjk5OYjFlNdKSuGJDn+dAYlEQkXY337bbbj33nuCawkJ5Ofl4nvf/74XCBnxckCYQ8L+fHoiEDIT3265l6ExlUrhiSeewA033KDGyf38HLlxXHjhRfjWt74V5HeRQn3n8NoBy1KzCeC1M2rxMpUl0jTV6pac82D8vTfo7/bgD2v43jeV8EzdMz8ZWiKhOiUquVPL7Af4s9VCSdKeevIp/NfP/wu1tbVgIWHw7//+7zj//PORE8uBK1zIDoqGIREISXj4SwRkgXOughwdB6lUCowx5ObmorCwEDk5yh3G/LS+3txlSKnGyry14QnCR3pBYP5cezsIbjRU3hCh8jY4jpqvn5+fj4KCApimEXgoXFcgGo2qKHzHAaAi6oUQMCMRcE0Fx6kYCA1c05V96t6/XnQ70Xswb0iJeV4gy0oBTImF8KwVdawa5ozFYojFcrwZXSqAtWUKpUpH3d9f7L2J46jYDt3LeukPxfnJqvLy8jBqVDEKCwthGIa3X8WKKGGn2nNd12F4CbDSZ7C19RYYHNAT34O0N/XRdR00NzchEol60zLVzAvLstXMCaYUh58sxW/EIxHVU7Bta0g/6ERr/BeK8k5JpFKW571KwXVdmKZaTwBeD1nTNKRSVpC6HAAaG5sQjUag6zps2wLnDMlkAo5tQ7guDNNAsrkZQghIISCEhHCVh8KfSUH0DmkdRga4toVUymq3nRFCzSRwXbVuhAqAdOE4dtBhGertSDweh2WlkEg0Q/cEsAh5bIRQUyxt2wruo+PYSKVCMySEhOt4YpshyJfTUlqCMAcbPSIawsFR2UrYxhnad/f3R8ILg7QqfpPt/e4HdwqvN+gXpWJN74FWhqdpOkzTDNK1Ss/lFXZx+Q28H1WcrRBDE8Z44FHwbck0zSAa3nFcb/hLxR34wxa+V4sFi1Sp6Wr+GhOapqshManWSJEZjR9jakoe8xpPovdRj7kKcAw/85ntBedakGHR/54517yiph763qHMdqSnSn9H5Z9QHl3XVdOH/fun8pqo++hnrFT3TN1D/zO6kME7gHkzObRgf8uCVeH3wmChR0QDcWTCKrQrdKcuMfjoa3tgnicsbMe+yCD6gIyXcbYXdF/bxFCkrWmoQogge+dAElBdIfsdIAiCIPoNKo2W9/MgfRkNVFpEQuaewclREw1tZYwkCIIgiIGCn1cjEHaeVw58cHp9jppogB/fkB7yQBAEQRD9ivCwXGYJPA1+HoGWCOVByVETDeHgwoEWJOKPG7blJmxjM0EMONqycZ8j7Sc6gBd9T72nQYAc/K7znhEN/n1qr2Q5dCAjvYxs4eAj1YC2qE+CGEj4dutH16vfBeBFgnOuovf9hFLK7snOuwvzFp5SM1FU6mfm5Wzx2xbVgaW2pT/CmEqe5Ws+KbMHqg4WekQ08COUVgxgRc388SqgZVoNJLiX/INxrcuZ4Qji6CJhO2qJZeGtoqn+x6BpKuOpyiGi1irQdW1gP8z9ACmlWq1SSjXN1csV4Gd8ZIxD03W1pLmmgXOVMpzoP0gp1LRnXQfXdOi6SnymsqwOPrK+0/uKgep18IWD3xswTTNIAqJ6A5k1CKL/w7kGXVNZ8XRdVytbSsCMRODaKgkZ5xyRSBRCCFhWy7LwRNfxp/FpnofHcRzomg7bVstTc65SqAvhBsnhiP6DaUaQmxuHcN3QLJeW5yI882UwcPREAwuVAYaUaq10AKiurkY8Jw7pfRBfYWpeT4EgBgp+OmmVnlpHTjzekpsfDAWFw4IhCilF2joHRNfwXdvwOk9CqNTfuq4jFouCMQ7HsiBcFwUFhXBdFzU1NZmnIY4ijuvANCPQdMNbeVZ5GwKPsxxccW60YFUXUWNWAjU1Ndi4cWOw/LD01ouYN68Cw4YNy6xGdBFasKr38RwLcGwHe/fuxc6dOwHP/appKqPpxIkTMWbMmCCeZ6jRKwtWcQbhCnBvCMi2bVRXV+Pjjz8OjolGI0gmUxgzdgxmzZwJy0pfzpo4ehw6dAibN28O1qMQwkUqlUJ5eTkKCws9T5Ia5vPjhbqClBIctGDVgIYxjqKiIqxcuRLLly/HsmXHYdWqVTjuuOUYMWJE5uEE0a9xXbWaKtc4JkyYgJUrV+KEE07ASSedjBNOOAErVizHhAnjg6DIzMaJ6BpStKSCNgwDOTk5GD26BCecsAqrV6/G6tWrsXzFCixfvhwzZszw1qUh+gPSW5p66dKlOO64ZVi6dAmWL1+O448/HiUlJaEjB8+zQqKhi/gPuW3b0HUDlmXBtm0kEknousrdTxADBSllsHgP9xbbkd5KmpaVQmNjU2DjgzUq/Gjhx0ipoQk7mJ2i1g5JqWEgVwVJ6t5Ko0T/IZVKQdM4dN2A4ziQEmCcw3HU6pnhMhjoEdHgZ8QS/uJVGdtaMYjaHF031MOsG8HSqcDg+ozE0MB1hTdrosV4VWPHvaXZW4Ye1fAcGXlP4MdISSG9BcjcYOEktVoi9xYl02DbNhyHOiT9BeYFwwMsWEJbCAEGb7pyBzwMMqO0h78gYgdO22v0iGhoFdQY/j3jA2bZNKDxe2S+ihxMipIYOhypRxTelm0/0X0yv4Nw8dsYEmv9j8zvyEfKTjwrHXwx+t/80bSAnhENBEEQBEEEZAq/DguIfs7REw2d8ckQBEEQBHHUOWqigYUyRg4O/UUQBEEQg5ujJhpk2pKiBEEQBEH0d46aaGgrUJIgCIIgiP5Jj4gGLtsvYVeC9KeNhE9AEARBEEMQBoDJltIevIPH9SY9Ihq6CsVBEgRBEMTA4eiJBhqaIAiCIIgBxdERDTTdkiAIgiBaER6qCBfeT96VfS4aMuMfydlAEARBEIrMd2N/e0f2uWggiJ5AJVfrJ9KbGKKQ/RFHj6OVTrxLosH/Y/18267rZhQnrQjhQLiqZO4LjqFCxXUghRsUSBEU6bqAlEpxS5XdQwoBBglICSlccMbS6lOh0tNF2ZqAY9veNgEpXM8OW+yVCpWuFonsBUyCMYBzBtu2AKjf+xqWSCSyypXNmzdj3rx5adsaGhpw44034v7774dhGCgtLcWVV16JgoKCtOPaQ6K1r0W5X47Cpyf6HeH87OGFYOCJ1cOHDuP6n1yPmpoa5OTkYNWqVTjvvPNgmmbLCqME0UswxvDJJ5/g+uuvh5QSRUVFuOyyy7Bw4cKj1vMjhgaapsEwDBw6dAiPPfYYnnjiCQghUFpaiv/8z//E3LlzYZpmqzUuNmzYgLKysrRt3aFLouGBBx4AvEa8uLgYqVQq7bj2INFAHIlw4+uv6ueLh1QqhWQyCU3TIKUE5xyxWAyRSASMMdi2nXYuguhJLMsCYwzV1dWIx+OIRqMwDAOO45BoJXoV13WRTCaRl5cHx3HQ1NQEwzBQXl6OH//4x5g5c2b/Fw1CCLiui2g0mnbckci8IGMkGQiFLxLC3oXwPsYYOOfBz5FIBM3NzYhEIkilUjAMI3Q2guh5dF0HACSTSei6DillIGLJ20D0Fpxz6LqOZDIJIUTQkSotLcXPfvaz/u1pePDBB8EYgxAC8XgcQoi047oCPWxEmLA9cM7BOYdt260aZunF1GiaBk3TWj0wBNEZfPvJ/NdHCAHLsoKfI5FI0P5pmpZ2LEH0Bq7rBm2gEALl5eX40Y9+hPLy8v4rGh544AEwxjBixAiceOKJME0z7bjOkvkiIIiwPTDGoGkaLMtCY2MjnnrqKSSTSRiGgSlTpmDhwoWBh8F13dBZCKJz+EMMbYkGKSX279+PZ599FowxFBYWorKyEmPGjEk7jiB6GiEEHMeBlBKbN2/GRx99BMYYZs6ciR//+Mf9WzTcf//94Jxj0aJFuPHGG5GXlweE3MeZf/SRIMFAZCKlTBvH4hqHZVk4cOAAvv71r6Ourg6xWAwnn3wyrrzySuTl5dGYMtFt2hILYTZs2IBvfOMb4Jxj9OjR+O53v4vly5dTO0b0Kgzq3drQ2ICHHnoId911F6LRKKZNm4af/vSnmDNnTv8WDZqmYfHixfjjH/+InJwcIPSg0cND9AS+HYXtafv27Tj33HPR3NyMeDyOM844A9dccw3y8/NDNQmie2Q2vD5SSrz99tu44IILIKXE+PHjce211+KEE04IYh0IoreQUqK2thZ33XUXbrnlFpimidLSUtxwww2YPXt2n4iGLnXNwt4E/+fwHxreRoVKV0qmHfm/ZyOzLhUq3S3t0dZxmeegQqU3SibZtvUmXRINBNEfCMfCkHeLIAii9yHRQAw4fLEQFg0EQRBE70OigeiXZLrk/CAg5s1NzhQMJB4IgiB6HxINxIAkUyT09bgeQRDEUIREAzHgIIFAHE2yeboIYqhAooEYcOTk5FBOBuKoEA68JfFADEWo5SUGJH5DTV4HgiCIvoNEAzGg8UUDiQeCIIjeh0QDQRAEQRAdgkQDQRAEQRAdgkQDQRAEQRAdgkQDQRAEQRAdgkQDQRAEQRAdgkQDQRAEQRAdgkQDQRAEQRAdgkQDQRAEQRAdgkQDQRAEQRAdgkQDQRAEQRAdgkQD0S/JXBBIIv13IUTwr388QRAE0buQaCAIgiAIokOQaCAIgiAIokOQaCAIgiAIokOQaCAIgiAIokOQaCAIgiAIokOQaCAIgiAIokOQaCAIgiAIokOQaCAIgiAIokOQaCAIgiAIokOQaCAIgiAIokOQaOhBMlMft0VHjyMIgiA6Rma7Su1r70CigSCIDkMNMZGNnrYJsrP+C0skElm/mc2bN2PevHlp2xoaGnDjjTfigQcegKZpWLRoEe655x7k5OSkHTfYkFLi3XffxQsvvIBkMolhw4ZBSgnGGGzbRnNzM5YtW4aVK1em1WOMtfrZfxDCD8Rra1/DmlfWIC8vD5xzWJYFXdfR1NQE27ZxyimnoLKyEoZhtDrfYCV8f/wGhDGGTz/9FF/5yldw8OBBxONxnHXWWfiP//gP5OXlDdp74t8Ly7JgmiZeeuklvPPOO+Ccp31mIQSEELj44osxbty40Bk6huM4+N3vfofGxkbk5OSknVtKiVgshlNOOQWTJk6CpmvBdzJY73s2hBB455138OUvfxlSSowfPx7XXnstVq9enfZ8DjVc18VvfvObtGfVJ5FIoKKiAieddBKi0WhavbawbRuapsF1XWzduhVPPPEEbNtGLBZLO3d9fT2mTJmCiy++OHhOstljtm0DESklampqcNddd+GWW26BaZooKyvDT37yE8yePRumabb6rBs2bEBZWVnatm6RSCRktrJ+/XophEgrdXV18pprrpHjx4+XkyZNkl/+8pdlU1OTHOwIIeRHH30k8/PzZWFhoSwsLJTDhg2TBQUFsqioSObl5cmrr75a1tXVSdd1gxK+d+FzCSGCY6qqquQ///M/y5ycHFlUVBScOz8/Xw4bNkzm5ubKTZs2tXm+wUr4s7quKx3Hka7ryi1btsgFCxbICRMmyLKyMvn9739f1tXVDdp7IoSQqVRKplKpwAYefvjhwBYLCgpkQUGBzM/Pl3l5eXLYsGHy6aefzjxNh/j000/llClTAtvLy8sLSkFBgTzttNPk3r17g78jmUwO2vveFq7rynXr1smJEyfKCRMmyGXLlsmnnnpKWpaVeeiQwnVdee655wZ2GLbLnJwced5558m9n+3NrNYmjuNIx3FkMpmUv/zlL+XIkSNlPB4P2ly/jB49Wt50001ttruDrb0UQsiqqir585//XI4bN05OmTJFnnHGGfKdd95p83lcv359q/d7dwoNT3SQ0tJSTJ48GXV1daivr0dDQwPq6+tRU1ODhoYGbNq0CXt274EUrXvImUgpIYUq+/fvx0cffYTm5mZUVVWhvr4eyWQSjY2NqK2tRVlZWc+qRGLAEe5BSSlRUVGBUaNGoa6uLij19fVobm5GfX091q5dm3mKNgnb6HvvvYfGxkYkEgk0NDSgqakpKEIILFiwAKOKR6XVJQifk046CY2NjWhoaAjssqGhAclkEi+99BI+2/tZZpU24Vy9mhKJBN5++23U1taiubkZzc3NaGhoCAoArF69Oq1N9W26rfaX6B4kGjqA67pwXRfXX389dF2HlBKu6wIAdF0HAGzatAkfbf4IQoq0upmuIh/foHfu3IkPP/wQmqYB3vkSiURQ79vf/nZGTWKoYRgGDMNAMpkEYwzDhw/HqaeeGtiI/69vp48++igSiUQwXNFeI+rvdxwHa9asQWNjIxzHaXVcQUEBTj31VLhCXQMATNNs87zE0EIIgcWLF2cdFuOco6amBq+++irQUbEp1XG7du3Cp59+CiEENE0NiVmWBcdxYFkW5syZg2nTpkG4yo6J3odEQwfQNA2MMRx//PEYM2ZMMJbMGIPruuCco7q6Ghs2bEAymYQQSjhkEwx+PSEFbMfGBx98gJqaGnDOYRgGhBDQdR2MMYwaNQqnnnpq0LATQxPfjvzx4FgshqVLl6KgoCDjSMVHH32EdevWQbgiqwAI4wuLAwcO4OOPP0YqlQLnvFWdcePGoby8HIyxoPH2bZkgHMfBqFGjsHz58qADFLR1QoAxhv/5n/+BEMom/TayLVzXhZQSGzduxGeffQYhBFzXheM40DQtaJO/9rWvqfaYs6D4kH32DiQaOoD0PAu6ruOcc85J612FG9dXXnkFVVVVAACG9o3VD3Rcs2ZN0EN0XTdoxIUQOOussxCNRoPfCcJxHJimiRkzZqC0tDRzd8C9994LznngCWsLTdPAOccHH3yA7du3txILPhdddBF0XSdbJLISiUSQl5eHY489Frm5ucF2zjk0TYNpmnj//ffx3nvvgXPeoY6Q4zh4//33gzbVxxcPEydOxFlnnYVIJEICoQ8h0dABGGPQdR3xeBynn356YJzMG2P2ee+997Bz504IIZBMJUNnSMcXIYlEAu+++y50XQ+Kr6I1TcPJJ5+MWCwWeB586OEYujCoxrG0tBRz5szJ3B3w17/+FclUMuixtYXf2H788cc4cOBAm7Z14YUXBr07gshEuAKxaAzz58/H5MmTW7Z7noVUKgXbtvHggw/Cdd0j2hHXOGpra7F9+/Y0kco5D+IdVq5cidzc3KAdJjHbN5Bo6CB+4zpjxgzMnz8f8B4IhOITHMfBU089BcMw2u3hCW8I4r333sPBgwfTPA2u68I0TUyfPh3HHHNM8ID4/x7pYSMGF77d+UXTlWfANE0sW7oMw4cPh5QS0Wg07bimpiY8+eSTgR2GhUOml+zgwYNYv349Ghsb07ZLKWGaJk4//XQMGzYMmqZB15SwDduhf01i6MI1Dq5xzJ49G4sWLQJjDKZppnkUXNfFX//6V0gpg/asLUHLGMP+/fvx/vvvpx3DGAPnHDk5ObjkkksCuwsPWZA99i4kGjrJsGHDsGDBAiAUBOljWRb+9re/IZVKtdoXxh/z813ImfuSySQWLFiACRMmBA8MPQgEMkTE4mMXY+zYsWBevpAwQgg8+eSTsG0bDOkesUyqq6uxadOmtG3h4/1xYwBpY8YE4ePbZDweR2VlJQoLC2FZViBmfXbv3o3XX3/9iF4By7KwadMmHDx4MM0Wfc/Z9OnTUVFRkVaH6BtINHSS3NxcLF26FEVFRZm7wBjDtm3bsG7dOrhehHk2XNdFfX09XnjhBTDPteYXx3FQUFCAhQsXIj8/HyDBQGSBMYZJkyZhwYIF4Jy3sjdN07B+/Xps2bIFrlD7sgmHZDKJnTt3YsuWLa1sTEqJsWPHYvny5cE+skWiPRhjWLFiBYqKihCPx4MZP34RQuCJJ55IGzbz274wUkq88cYbQWCuj3+O448/Pi12gug7SDR0gfLycpSVlQWGHzZ6KSUeeOCBdgN9UqkU3njjDTQ2NrbyNEgpMWnSpMDFF95OEAgNUem6ji984QtZbcO2bdTU1ODNN99sJSjCSCnx1ltvpU3zRSiA7fjjj0dhYWGaWMh2PYLw7WPq1KmYN28eUqlU5iFgjOGtt97Cvn37AK8DlY2GhgY8++yzkBnZJeFN/12xYsWQzsB5NCHR0AHCShkAjjnmGMyfP7/VEITwphY99dRTrdzFYWKxGJ544ong+LDwiEajmDp1KmbPng2EHkSCCOPb44knnoji4uIgWDZspwcPHmw17JCJbdtYu3ZtWl3mjRvn5uZi9erVME0TIFskOgDzYhnOPfdc2LYd2I6P67rYt28fNm/eDCEEOOdwHCftGADYunUrdu7cCZkR4MgYw6JFizBr1iwIt/0hDqJ3INHQATK9CbquY+XKlVmHKFzXRV1dHZ566qm07eFzVFdX44033gC8sbvwuXNycnD88ccjEokE9QgiG/6L/etf/3qrF7qu67AsCxs3bsTHH38cbA/boZQSmzZtwttvv51mg/AE8MyZMzFz5kzIUG+P7JE4EslkEieffHIQk5UpZvfu3Ys1a9Zk9UT4/O1vf4MIJSeDZ3umaWLJkiUoKSmh+JqjBImGdshsSMM/V1ZWYuzYsUBoGpAfvdvc3IxnnnkmTSGHZ1ps3LgRu3fvhmmaacMTUkoUFhZi1cpVWYc3wo09QcCziYsvvjjIzujboT93/cMPP8Qnn3wCGeqxSSmDjHuvvfYa6uvrA3vzG3dN01BRUYEJEybAsqzMyxJEm5imifz8fJx33nmtAh4550gmk3j33Xexd+9eOI4D3cuy65dkMomnn34aPJRkzP93+PDhKC0tRW5ubrveXKL3INHQSXzjLS4uxvHHHw94LjPuJSyBJxA2bNiAvXv3Br/7/wpXYM2aNUGaX+4l4PFV+MKFCzF9xvRAgJBIINpDepHkS5YsAUJDCH6MQlVVFT766KOgVyeECBKPua6Lxx9/PM2+fFsdPnw4Fi1ahMLCwqzTNgmiLaSU0DQN55xzDmKxWOZuAMCWLVuwY8eOwLZEKFPkRx9+hE2bNqWJWJ9JkyZh3rx5EF5a6bAXo71C9BwkGjpA+MXt/2sYBi644AIwL5W08OITfPbt24fXX38dCIkKKSXqG+rx3nvvIZVKgXlJo/yiaRouuOAC8FCaagDBIiwEkQnzvAJf+tKXoOt6YGe+IJVS4tVXX8WhQ4da8iswAAz4/PPPsWHDhuA8wnMHO46DCRMmYMGCBWCMUcAZ0Sk0TYMQAnPnzs2agIxzjv3792PTpk1pYtbn74/9Pfg5/OI3DAPl5eUYP348ZCjXA9G30F3vJEKIYCXLysrKrAGRAHDgwAG88sorSCZVVj54D8DWrVtx4MCBIAAomUzCsixEIhEUFRXhjNPPCB4GX2z4GalJOBCZMM8btWTJEowZMwaO48D11kNxHAecc6xbtw579uxBKpVSC/sICdu28dprr6GxsTE4j09+fj6OOeYYTJ06Fa6jBDHZHtEZpBfUfcEFF2TuArwU0c899xyqq6shXAHDMMAYQ0NDA5555pmgo+YLYF3XkZeXhzPOOCMYeiOODiQa2iGscn0jDQ8bcM7xT//0T0GjGlbLQghs2rQJu3btCpI5AcD69euxc+dOlXTH8zQAQFNTE6644groRkt+f7+hzvQ8EEQYxhjGjBmDZcuWBY2v3+A6joPm5mY88cQTiEQi0A0djCu7u++++4L64RKJRHDWWWepIbeMVVsJoiNo3noTq1atQmFhIYQQME0zaO8453j77bexd+9euKJlIaqtW7cGa6D4hXMO27ZRVFSE41ccDwbVmaL28OhAoqGTMOatpuYZ7BlnnIHRo0cH+8LHbdu2Dbt27UIikQAA1NTUYNvWbaiqqkI8Hk8TGrFYDOeee25QH+RZIDpBQUEBjj32WGjeAlQ+vjD961//iqamJrheqvKDBw9i27ZtaWLUb4hHjBihEjpBDX0QRGfxbamkpAQrVqwAYwyJRALSi1OQUqK2tjZIcOcPabz++utBe+njt4Pnnnsu4vF44Hkljg4kGjqB37iGxUFRURFWrlwJ7s2g8Bthxhiqq6vxwQcfwHEcSCFRU1ODd9e/C3hTLZk3/KDrOubNm4fp06cH5yWIzqBpGubMmYMpU6YEPTQfIQS2bduGzZs3A16D/uabb6K2thbIsGvhZdsrLi4mDxfRJcJegoKCAixatAixWAyMsbTZErqu48knn1THColEIoF169YhmUxf7M/3Wlx66aVwhVrsimzy6EGioZNkGqumaVi5cmWa18BHCIGnn34azc3NkJCoq6vDxx9/DCllMI3NH4Y466yzEDFVbgaC6CyMMcydOxfTp0/PaoeMMdxzzz3QdR2O42DNmjVobGwMhKv0Vl4FgEsuuUSdk+bBE50gU6z6wmDevHkYN24cEJol4R/7zjvvYOfOnQADduzYgS1btrSaSum6LpYsWYJp06aR56sfQKKhA4S9B5m/W5aFBQsWYObMmWluYXjG/sEHH+DQoUOwbRsffvgh6uvrIUMuOiklRo4cifLycpgRM+3cmQKFINojPz8fxx13HEaMGAGE3LrcW5ti3bp12P/5fhw8oFa19MeR/cBJKSXmz5+PioqKoHEmGyQ6i9+uSaHygVRUVGD69OlBu+en33e8JbOfe+45cMaxa9cu7N+/v1U7CgCnnHIKdF2H24FltYnepfW3Q3QKIQQmTJiAFStWBA9F2KgPHz6Mv//973BsB4899lhaFjS/Ua+oqMCMGTPoYSC6jPQCxk4++WQMGzYsreH1BcDmzZvx2uuvYeeundi/f3+r9L2MsbS59WSPRHdgXE3vHTliJCoqKpCXl5fWRvri4p577kF9Qz02b96MAwcOZJ4GJSUlOPPMM9U5ySaPOiQauolpmMjNzcXChQtRVFQE4SUdgWfg0WgU9957Lw5XHcYbb7wR7NM0DVJKxONxLFy4ECNHjqRc6kSnkKEhBd/tO2HCBMybNy/NjesPgVmWhaeeegobN27EgQMHEIlEID0XspQSI0aMwEknndRKTBBEdxBS4Mwzz8yadh+emH3iiSfw3nvvBV4IeB4yAFi+fDnGjBkDUHB4v4BEQyfJHD7wlx2eN28epk2blnYcvDzsO3bswF133aXmJIdT+QIYN24cFi9ejJycHBpDJjqN/4L34xZycnJw1llnwXXdICmTb3Ou6+K1117DCy+8gIaGBkgpYRgGHC8T38KFCzFt2rRAiBBEZ8hsG/1tAFBWVtYq0NsPtLUsC//93/+NDRs2QNO0INGdpmmIxWI46aSTkJOTQ2K2n0CioZsIL/PejBkzMH/+/KARDrvfpJS49dZb0xahcrzEO37P0H+ACKIjSC/w1jAM2LYd9MqklEGvzvcghHtn27dvxwsvvAApVYKnVCoFwzBgGAZOPPFE5ObmUgZIokdhjGWdUs69GWeO4+C1117DZ599BubNsPA9tlOmTMGcOXMgvNw12RLpEX0LiYZuYpoqeFHXdcyfPx+FhYXIz89vpYpra2tRX18fBJ35inrWrFkoKioKIooJoqP49uILUM3L0VBYWIgzzzwTjuMEyZ58LMuCZVmBMPBFxdixY7FgwYKgISeI7pLpcQiLBr/j5Ac2JpNJNDc3w7ZtRKNRGIYBIYRKGz1uPKLRaKtltomjA7UOPQD3ci2sXLkSo0aNQn19fdp+v1cYFgV+4/7FL34RMrT0cNi9114hhjbME6qc82AOfNg2fvjDHwYxC5n2kkqlAlHri4Zjjz0WU6dODURGZwpBhMm0D1+EFhUV4Zvf/GbQDoZtJ9w+2rYNx3EQj8exbNkyjCoZRUK2H0HfRA8yZswYrFixIs1VnM174HoLXE2bNg1z586l6W1EjzN69GgsWbIkq/1lYpomKioq2gxUI4ju4AsHzjkuvvhiGIYB7k3x9du8sJ063lTgESNGYP78+dQu9jNINPQgmqbhvPPOS4tcbwshVERxPB4HQpHCBNETGIYRTAPO9DZkComioiLMmzePYhmIXqeyshLTp09v00vlbzMMA1OnTsUxxxyTeQhxlKE3VQ/CGMOiRYswZsyYrA+Ej67rYN4Ynz+mR6KB6EkMw8CSJUswYsSIrO7gMKNGjcKcOXNaiQmC6GlycnJw4oknBjN6wvjilnlB5EuXLkV+fj7ZZT+D3lQ9iJQSOTk5OP3009s1dMdxMH/+fEyfPh0aV6tmEkRPUl9fj4kTJ6KsrAwIeRcye3icc8yaOQvFI9VaEwTRmzDGcOKJJyIajbZpb8yL1znllFOoQ9UPoW+jB+HeEq4XXHBBu1ODOOc4/fTTMzcTRI+Rn5+P4uLiYEZEW0QiEZx51pmUI4ToE4SXQXfOnDlZO0u+uJ0wYQJmz57dru0SRwf6RnoQKVR2vZkzZ2LGjBmZuwMYY1i8eDHgZUsLeyX8MWiC6A6MMeTm5mLevHkoLCzM3B0Qj8eDgEmyO6K3cV0Xo0aNQkVFRZv2JqXEsmXLgsXViP4FiYZu4rt7GWNgXP0bjUSxatWqzEMDJk2ahNLSUsjQyphtPUAE0R3KyspaZSoNl7KyMhQVFbUatiCI3kAIgfz8/GAtirY4/fTTwRnlDOmP0DfSgzDGIIRANBbF8uXLM3cHjBs3LgiGpIh1ojeZMnkKJk6cmLk54LjjjoOuKVsk0UD0NoZhIBKJYPLkyRg5ciTgtZuZnq758+cHnTCif0GioaeR6iEYNmxY5p6AUaNGBaKBHgqitxBCQNM1RKPRzF0B8Xg8WD+FIHob27bBGEN+Xn7gaZBZVgf2bZaB2sf+BomGHkRKCa6ppCUrV64M0qRmlltvvVWtaikEHJvSRxM9h99jk95S2fF4HHfccUdge01NTXAcB01NTaiqqsI//dM/gXv5/2mhKqK3MQwDlmVh4aKFeP3114Psj36WUtd1UV1djdzcXACABLWN/Q0SDT1E+MXPGANnagGqbGXYsGFBAiiucVLTRK/BoIbA/PiZSCQC5g2L5eTkIDc3Fzy0bgVB9Ba+mNU0DdJbYVUIAdd1oet6sChVQUEBGGNBG5ktpwNx9KBWohdgoaDIbMV1XQhXLWXMOaexO6JX8O2Qcx40zvA9YpzDMAy1EqZonTWSIHoD4a0KHPaGaZqWZpvwPBK+WCC77F+QaOglfIGQDU3T0kQF0T7M/8+7V4HYovvXYfzGOUxwP0m0En1A+Ln1PVvh38PeLt8e/f1E/4FEQw8RNuwjvcz8hycTv157dYcKafcidDsy743/e+b2oUo2G2KhRjlzPws15ATR2/g2GBb94RLe3tYx4UL0Pa3fXESX6aohd7UeQbQH2RVBED0NiQaCIAiCIDoEiQaCIAiCIDpEt0QD5Rcgjga+3fkR2OFtBNHbCKFmPhHEUKRHRIPfeIcbcYLoLbLN2860wWylLTKPo0KlreLbS/jf7pB5fipU2ivZ7Kav6ZJo4Jyr+d1H6Y8mhjZ+T8+3PcYYhCvgOCq7Jtkl0Vv4dud7GvxgU8qmSfQ20kvQ5tug67pptthXdEk0+FDDTBwNMhU3vCXGCaIv8BtqIQQsywJjDLquZx5GED2KLxZs24amaUF2V9u2+1S0kmggCILoAsxLx+33+giiN/HFqq7rcF0XqVQKUkrout4qcVtv0iXR4DgOHMdBPB5HIpEAvA+U6R6mQqWrRbgC0lPV8DwJlmUhEokgkUiAMYb8/PzABg3DAOc8bWEw4YqgSKFce1lL6DgqVNorUkrE4/EgzXEkEoFt25BSIpVKdbrYtk2FSoeK67pgjMFxHESjUcTjcQghgv19BUskElndBZs3b8a8efPStjU0NODGG2/En//8Z5imiebmZgBAdXU1hg0bBtt7eAiiu0hvQZtkMoloNBq4g+vr61FSUgLLsoKGd+TIkWhqagrG+HzCY33tjfuRzRIdxbZt5OXloaqqCsXFxUE8Q01NDXJycjIPPyJ+TARBdATmZcq0LCvwLsyfPx/XXXcd5syZA9M0W9nThg0bUFZWlratO3RJNDzwwANgXmraVCoVfBB4QZLUCBPdJSwaYrEYZMgFbJomLMsCQo2u4zjB7z6ZD0/m7z5kr0RH8ds9XywwT8yapolkMpl5+BFpyyYJIhvCW/ArGo2iqakJUkpUVFTguuuuQ3l5ef8VDQ8++GDw0HDOkZubi+bm5iAYqCuNcOYHJQh/uMFfNpdzHrjhhFCzJQzDCGxR1/U2bZDsi+gJ/CGzcBQ75xyRSCQQsp2FbJPoCH7Hyfcw1NfXIycnB5WVlbj22msxe/bs/i0aotEoSkpKsHTpUowcORJCiG4tZ9rZ44nBS/iFH/5Z13VUV1fj3nvvDWIYZs2ahcrKSuTm5rZaYtcvIDcw0UMIIbBz5048/fTTAIBYLIbjjjsOU6dOzTyUIHoc13VhWRY+/vhjrF27FkIIzJ49G9dff33/9jT4wxOLFy/GL3/5SxQVFQXHZFu9sSNkflBiaOK/5KVQ/4anUgohcODAAVx88cWoq6uDrus488wz8e1vfxsjRoxIr0+igegl3nnnHVxxxRVIpVIYO3Ysrr32WqxcubJPI9iJoYmUElVVVbjvvvvw+9//HowxLFq0CD/+8Y9RVlbWf0XDn//8ZzDGMGfOHDz44IOIxWIQQkUWSy8BRWfI/JDE0MZ/wTMwMK5+9t3Ce/fuxRe+8AU0NTUhFovh3HPPxfe+9z3k5ubCdV2YpglkiIfweQmiu2zYsAHnnHMOGGOYMGEC/vM//xMLFiyAYRiZhxJEj8I5R3V1Ne6++278/ve/RyQSQVlZGa677jrMnTu3T0RDl9wC/nhe2KvAOYemadB1HZFIpFPFMAwqVILizzvmGg8EAySC4QfTNIN4GgBgaHlIwt4FhAUICQaiB5BCTS03DAOapgXB4Jk2TIVKTxc/Xstv9yKRCFJeroauevi7Qpeu5DfKfpIJguhLIqFMaI7jKC+XSBcLBNEbMK7szheurutCeLk+CKK3CbdxR6u965Zo8KPbCaIv8dW14fX2GFfDGH2ptomhiRTK7lKpFDjnQWGcPFlE3+B7VjsbBtBTdLuV9d3HbRWC6C6MMYC1DDWEA87CApZzNZxBwxFEb+LnBEHGcBi1fURvwzmHkCJYMDISifS5rXVJNPgNsuyhFbbCDT0VKpklG/52f2givC18DBUqPVnChIO/fRskiN4im/0dDbokGgiCIAiCGHqQaCAGFeQeJgiC6D1INBAEQRAE0SFINBDEACUz8I48LARB9DbdEg3USBHE0cF/7rI9f9m29SQkUghi6NJl0RBuMNqLMCYIYnAhhEhLbDSkCE39TZvi66U7p3aQGOx0WTQQBHF0yezxU8+fIIjehkQDQQxk+lgjZPMuhvMVEEMDEqpDly6tcvnggw9C13VUVlbirrvuQn5+ftpxYchNR3SXcOO0Y8cOXHTRRTh48CDy8vJw5pln4pofXIOCwgLIjGRjg932/HuSSqWwZcsWGIaR1oD3ZGMejUaDn6WUmDBhAiKRSNoxQwEhBNatW4dLLrkEQgiMHz8+WBrbX2F1KJApFjjn2LVrFxobG3v8uWOMwbIsxGIxOI4TLFw3bty4dt89gxEhBKqrq3Hvvffi5ptvhmmamDFjBm644QbMmTOnT1a5JNFA9HtINGTHtm0IIbBx40bcfvvt2LljJyTSG/PuCgfGGDhTayv4noXx48fj+9//PiZOnBisbDtUINGg8L1LvqfLdmz86U9/wlNPPYWGhoYeXZOIcw7bthGJRJRo4BqisShWrlyJ733ve5mHD2pINBBEByDR0DZSSDz3/HP44Q9/iPfff19t60HR4BO+lzNnzsR9992H8vJyuK5LomGIioYwqVQKP/zhD3H77bcjlUql7esunHM4jgPTNGHbNhhjiEQiuOyyy/CHP/wh8/BBTX8QDRTTQBADGFeoGQypVCptRoPf0wsLru6UzNkS4WsQQ4/MF5NpmhBCQAgR7JOeYJVSBvu6Uvzr+QVZRAvRd5BoIIgBjJQSuq5nbUR1XQ96Ht0pmqbBMAxwziGlDNzPnHNwRk0IAbVEvWcv/ste0zSYphnYoGmaacuJd7T4wtW3cU3TEIvF0la7JfoOeuIJYoDjN65hDMOA4zgwDAORSAS6rne5SCkDt3AsFsPw4cMRjUaDniQxNAkLyzC6rgf2l0wm4TgOotEoXNdt5cHqSPHP7wsI13WRTCZx4MCBtOsSfQPFNBD9nnADQjENLUgp4TgOXn31VXznO9/Bhx9+GOzLy8vDxIkT8Z3vfAdz5swJGlyE7ov/e0fwe5BSSsTjcZSVlQVCZbDf5zCCYhqALLbDGMO3v/1t3H777bAsC/Be8sXFxfjXf/1XLF26FIZhdOkeCW/4zTRNSCkDQTJmzBiMHj068/BBjaCYBoIgukNYCIRLfX09otEoZs+ejcrKSlRWVmLBggVYsGAB5s+fj/nz5we/H6nMnz9f1Z+/AAsXLsSsWbNaeTaIoUWmvWXCGAtE/DHHHIOKeRVYuHAh5s2b1+lSWVmJJUuWBDY7d+5czJ8/f8gJhv4CPfkEMUDxvS/I0ttnXppjzlSqY3gzLXwXcfi4Dhdv2iVBZCNsj5kwTnYzWCDRQBADnGwvcr8BF9KbT+813BpvCVjLVi8bHT2OILLRGVsj+j8kGghiEKJpGqSU4JxD1/VuewtaeR06KTyIwYUvSjO9Xe3ZRFvbiYEFiQaCGAJQg00cLdoTEsTAg0QDQRAE0auQaBg8kGggCIIgeg0SDIMLEg0EQRAEQXQIEg0dIDPop72pRR2hu/UJojP0lq2RHROdgWxlcECioR2O1Chm2+fnXW9PYPi/ZzuuvUIQHUV6ufp9u+kpO8p2nszfCQKhtM/ZbCVzOzFwINHQATINvS2DdxwnrbRH5qqBBNHT+DaYzVY7i+M4aStohtcRIIgw/uJV4UXOyFYGDyQaehhN06DreubmNBhjcBwnWAyIIHoN6ZVu4gezHWkuPkEIb3lsP1cIMbgg0dCDaJoGx3FgWVa7y7a6rgvTNI94HEH0B6S/EJhUqah7SogQgxPOOYQQcBwHnLekMe8poUlei6MLiYZ2CPeoLMtCQ0MDmpubg9LU1IS62jrU19ejubkZtm0H2fd8td1Wr4x5awMAQHV1NT7//HM0NjaioaEBDQ0NaGxsRFNTE2pqapBIJGgYg+gUmqahoKAAYICQLUMKruu2GkY7UnFdF47tQELCFa7KKklrCRBtwLyhiVQqBdd1YVkWmpubA1vqrC1algXHdtDQ0KCW2radIHaM6HtoaewO0NjYiHXr1uHqq69GPB5PG35wHAe2bePSSy/FN7/5Tei6Hiz/2t5ntyxLPVjJFO7+4924++67Ww1tOI6DxsZG3HzzzViyZAny8vLSzjFUCI+J0tLYLQghYNs2Xn/9dXz3u9/Fpk2bgn2maaKwsBAXXHABpk2bFni0ZEaAZEfv0ejRo3H66acjEomAhVYwDJP5+2BE0NLYQJY4GZZlaWzDMDB8+HB88YtfxPTp05GXlwcnFOvVVocqE9d1AQDxeBzLli3DpEmTgtiaaDSaefigRvSDpbGRSCRktrJ+/XophEgrdXV18pprrpETJkyQU6ZMkeeff76sra1tdVy4DAZc15UHDx6UU6dOlYyxtGIYhjRNU37xi1+Ue/bskU1NTdJ1Xem6buZpAlzXlY7jSMdx5Gd7PpNf/vKXZSQSkZxzqWlaUADICRMmyP2f75e2bWeeZsgghAju2datW+WCBQvkhAkT5KxZs+QPfvADWVNdExwz2GyvPVzXlclkUr744ouyvLxccs6DEo1GpaZpUtd1qet6YFOc88B2M+2tvXLKKafIxsZG6TiOdB1l30PpXvu4ritff/11OWXKFDlp0iS5fPly+cwzz8hUKpV56KAmWzv/rW99S5qmGdhg2M4Mw5CapqW1nWF7ba8AkJqmydmzZ8tHH31UWpYlHdsZkm2i67ry0KFD8pe//KUcN26cnDJlijzttNPk22+/LZPJZNZncf369a3e790pNDzRARhjKCgowAUXXJCmsKWUsG0bQgh88MEH+Pjjj2EYBqS3UFBbhHtqu3bvwvvvvx8EDfluN39445xzzsHw4cODOjSeR3QEwzDAvIBbf9aD72HIZj9+r6+tkkqlgqj4TLdwZs+GIMIwbyjWbxf94m/vSDEMA42NjZBSBnZIdnd0aPvNRgQwxqDrOs4555zMXYA3jHDw4EHs2rULwhXtCgZABZNpXINlWdi2bRs+++wzJJPJQEj4Rdd1XHrppdAN/YjnJIgwtm0HrmBd1xGJRGCaJgzDgGEYQcPrC9XMsebMktboa1wFRJJgILLgi9Lwiz2VSrWys8zf2ypSSjheUKU/PAZGtne0oDdRBxCu6vUvWLAAy5YtC7aHlXJTUxNefPFF1NTWpNXNBuPK6FOpFF544QUkk8mg9xbuCc6dOxfTp0+H67pIJpMZZyGItkkmk9A0DXl5eYjH4zBNE5FIJBAP0WgUOTk5yMvLQ0FBAQoLC9stOTk5QCj3g5At9koQbcEYQzQaRUFBAUaOHInc3NxOl5ycHMTjcYwePRqRSCQ4L4mGowMFQnYAx3HAGQfjDH/4wx/wL//yL4EC1jQteOGPHz8ef/3rX1FWVpY1IMVHuOr4AwcP4IQTTsDHH38MZAxbGIaBG264Ad/97nfhui5isVjaOdo692DEF1KSAiHTEO0EQnLOMWnSJJx22mmYMmVK4KmS3pAaQvbWEUaPHo2vfOUrwe/ZepNDAUGBkEAWschCgZC2bQc2kZeXh7PPPjtrm9hRu/GHagsKCrBs2TJMnz492NfRcwwWBAVCDgz8IDzXceX69evlhAkTpGEYUtf1IKCHMSY1TZO33nqrTCQS7d4HIYRMJpPyzTfflLFYLC04SNM0GYlE5NixY+WaNWtkKpWSjuO0e77BjqBAyKy0FwgZiUTkscceK1955RWZSqVkMpmUyWRS2rbd6j51pDQ2NgYBvuF7PdSgQEhFpn3IUCBkOMixpKREPvzww7K+vl42Nze3qu/bVGdK5nWHEi4FQg4M/CEICYnRJaMxv3J+0EsLDyfouo7HHnsMpmm2ChYLw7x4hccffxzJZDJNGfq95VmzZmH8+PHQNI3iGYhOw7wgSH+qpaZpabEMnfEQSCkRi8bAQrlFOlOfGLpwzhGNRoNYGmLgQ2+jDuI3mMOGD8PyFcuDMWKEXHWcc6xZswbV1dVwHKeVC8/HsixwzvG3v/2tlZvXb5SXLVuGMWPGUMNMdAk/CU4kEgnWAPBtqSs2xbiyT3+2EEF0BOZ1rij77eCBREMnYIzBNE3Mnz8fU6ZMQSKRCPZJKZFIJNDU1IT777+/3fFNzjl27dqFDz74IGjAZWi65ahRozB37txAmYe9GQTRETjn0HQNrpcYBxmxIZ2xqbCN6rqaydMV4UEMPfx4BNM00+wtLGA7W4ijC4mGLlBaWoo5c+a0WpjKV9LPPvtsMIUyG4wxPProo+De/OMwUkqUlZWhoqIibTtBdJW27JAgCKKzkGjoAkVFRVi8eDHy8/PTlK8QKkfDunXr8NFHH6XV8T0J8IYnnnzyyWCecrhRz8nJQXl5OUaNGgWZkbeBILoC9dQIgugpSDR0Ev/lf9xxx6GwsDBtn+81aGhowOOPPw4GluYe9rPz7dy5Ezt27ABCedV9CgoKcMoppwQZ/QiCIAiiv0CioZMwL43uMccckzZf2N/HOYdt23j++edR31APTdNU8iZXBOPB69atQ1VVVVo9/9+ioiIsWrQoa6+QeotEV8j0NPREIYjukmlTXSlE30OioZP4QwbxeBxf/epX0wzXT3XKOcehQ4fwwQcfQEqJaDQKx3XAGINlWXjppZfQ2NgIeNM0EXqALr74YuTEVPY9ekAIgiCI/gSJhk7CGIPG1eJSJ598MkaMGBFEkwshYFkWGGM4fPgwXnnlFdi2HQxpuK6LHTt2YPv27XBdFyw0xZJzjng8jvPPPx8S6csXEwRB9HeoczM0INHQBbimRMLw4cPxpS99qdUceCklqqursX79etTV1Smh4SVp+vjjj7F7927Am23h7wOAFStWYOrUqYG3giAIoj+SzQua+TsxOKE3Uzf52te+lpa0JPwAffLJJ9izZw+EEDAMA1bKwsaNG3Hw4MFAMPhJoBhjuOKKK4K69PARBEEQ/Q0SDd1k7ty5WLBgQasseYwxbN++HVu2bAkWCGpobMCOHTuC1NH+sEUkEsG4ceOwatWqtHMQBEEQRH+CREMnyXTLmaaJ008/PZgZEcZxHDz77LNobGyE4zjYv38/3nnnHTAv/gFeYGVzczNOOOGEVitZEgRBEER/gkRDD7B06VKUlJSkbfODGF977TUcOnQInHNs27YN27dvTxt2YN5688uWLWuVYZIgCIIg+hMkGrqJ4ziYNHFS1iEK13Wxa9curFu3Do7j4O233w5mV4SZOnUqysrKWnkqCIIgBiLhmV80C2xwQW+pbiKlxJixY7B06VLk5OQEKwrCyxBpGAb+8pe/wLIsPP7443AcJ21ognOOpUuX4phjjoEU9HARHccfIkulUlm9VK7r0sqCRJ8ghEpe5zgqHw28aeThtXVIPAwOSDR0E9M0YRgG5pbPxZgxY5BKpQJhkEqlkEql8OKLL+Ktt97C1q1bEYlEIEOrDBYUFKCiogKFhYVwXCfz9ATRJo7jQNd1mKYZBNv6+DE2md4vgugNmpqaIKVEJBJBNBqFaZpB3ho/5wzZ4uCAREM38R+IyspKzJkzp9X0S8dx0NTUhP/6r/+C8Ja+9mdOSCkxadIkLFy4ECyUr4EgOkJ4Bk7mkJemadB1HVaqpdEmiN5ASolYLAZNU0nvUqlUYG+Z8VvEwIdEQzdJpVJwXRfDhg3D/Pnz0xax8htuTdPwwgsvAKE01P7+6dOnY9q0aZBSkmggOoWmaXBdF4WFhVi2bBlWr14dlBNOOAFLly7FsOHDguN9oUoQPY3jOJg2bRpOOOEErFq1CitXrsRJJ52E448/HsXFxSq5HaPXzWCAvsVuEolElAhgwGmnnYaioqIgo6O/7LXvlrNtG67rBr/n5eXhrLPOQn5+PgVBEp2GMQbOOMrLy/GjH/0Id955J+68807cdddd+MMf/oBrrrkG06ZNS7M5kHggehjpra9z3nnn4eabb8Yf//hH3Hnnnbj11ltx4403Yu7cudB1HYyTp2EwQG+qbhIeNy4tLcWMGTOCoCC000AzxjBq1CgsW7YscxdBdBiucZimiZKSEowbOw5jx4zF2LGqDBs2DJzzNO8WQfQ0vm0VFhZi0qRJGD16NMaMHoOJEydiwoQJiMfjZH+DCBIN3cR1XOi6DiEEotEoTj/9dHDO06KIM/GDhRYuXIjx48dn7iaIDuGLAV+YMs6g6WqNEz9Gxg+WJIjeRHgL8jEvcZ2QIvC4+vbYVntIDCxINHQTxtXD4DfMp59+OkzTDBrybF6GVCqFZDKJL3/5y0HQkH9cW3UIIhO/IWbeaqnhxplzDk3TEI1G07aHC0H0FJwrjxdjDIZhwDTNzEOIQQKJhm4SbnyFKzBy5EisXr06cAu3JQLGjBmDRYsW0cNFEARBDBhINPQgjKuU0Oeee267c5IZY1iyZAlGjhxJAZBEn0CeBaK3INsaWtAbqyeRaobE8uXLUVRUlLk3jVNOOQVSSghXQIq2PRIEQRAE0V8g0dBN0saJuRrPGz16NBYuXJh5aEBeXh5WrVpFIoEgCIIYUJBo6EGklEgkEjB0A6tWrcrcHVBaWoqcnBwwxiBk28MYBEEQBNGfINHQg3BvgRYzYmLmzJlp+8JBkcXFxYCfgtpbpIqBxgUJgiCI/g2Jhh7GMAwwxlBZWYk//vGPWcvll1+O3NxclcuBq2ENMAooIgiCIPo3JBp6iZKSElx22WW47LLLcOmllwY/X3bZZfjCF76A3NxcCCFovQmCIAhiwECioRfITNQUnh0hpQzWpNA0LRieIAiCIIj+DomGXsCfTeFn4uNaekY+wzAAfyiDFnEhCIIgBghdEg00VZAgCIIgjgLe6zf8Hu7Ld3KXRAPRPdJyO9BaAARBEEQHkFJC4uiuVdRl0RB+yfX1H00QBEEQRN/TZdEAEgsdItOb0J5HoSPHEARBEMTRev92SzQAAGfdPsWQI1NEkFAgCIIgOkJ4SGJADU/gKCodgiAIgiD6nm6JBoIgCIIghg4kGgiCIAiC6BAskUhkHWPYvHkz5s2bl7atoaEBN954Ix544AGYplqU6Te//g3iufE2x+Tb2k4QHUFKCcaYGrsTEns+24Mrr7wShw8fRjwex0knnYSr//lqFBQUQEiRZm9ke0RPI4TAhg0bcPXVV8N1XYwdOxbf/e53sXTp0iBpG0H0Fq7roqamBo888gjuvPNOmKaJ0tJS3HDDDSgvL4dpmq3avQ0bNqCsrCxtW3fokmh48MEHAS+j4YgRI5CTkwPOOCRUA+8TBGlkvQJBtI2QAoZhIJlMIhqNQggB27Zhmib27NmD5uZmaJqGeDyOwsJC5MRy4LhO2loemQ9PW1BsDuETDjCDbJkX7+M4DmzbxuHDh5FMJgP7y83NpZVqid6FKfuTUqKurg51dXXgnGPOnDn40Y9+hDlz5vRf0fDAAw+kbffTJWdyNCI7icGBEK1Fg79dCAFd12EYBizLCmaf2LadZovZbDIbZKNER9E0DZZlQdd1WJaFaDQK13Vp4Tmi1+Gcw3EcOI4Dzjl0XYcQAjNnzsSPf/xjzJs3r/+KhoceeghCCDiOg9zcXNi2nXac/0f7DT01ykRnkVIGoiESiQRCIZFIwDAMmKaJVCoViAspJSzLItFAdAtfgGb+HMZ1Xdi2jby8PEgpAy8Y2RHRm3DOA3vjnMOyLEQiEZSXl+O6667r356G++67D4wxTJs2DVdddZVardH7MAg11m09dATRWTRNA2MMO3bswD333IOGhgaYponKykqccsopiMfjcJz04QnOOxbn69stQeAI7ZYQAjt27MAtt9wCzjlGjBiBs88+G9OnT0c0Gs08nCB6DCklEokEUqkUXn75Zbz00ksAgDlz5uCGG27A7Nmz+69oeOCBB6BpGioqKnDbbbehoKAACDW+ne3pEcSRYGAAAz799FNcdNFFqK+vRyQSwbnnnour//lqDC8anlmFIHocIQQ2btyICy+8EEIIlJSU4Mc//jGOP/54mKaZeThB9BwSsGwLjY2NuPvuu3HbbbeBc46ZM2fipz/9af8WDQ899BAMw8C8efNw1113IT8/X8UvCHWq8HLPmR+AIDqLH8cAANu3b8eFF14YiIYvfOEL+D/X/B/k5ecBnfAuEERXcF0Xb7zxBi699FJwzjF69Ghcf/31WL58Odke0av4HrDa2lrccsstuOuuu6BpGsrKyvpUNHTJyl3XhWVZkN50OL9wjYNrakyZcx6ML1Oh0pMlE1+k0pgy0dv448p+UBpjLBC0mqZRodJrxW/7hBCIRqNHrb3rkmjgnAcfQtd1IKSC2mrYCaI7tGVb0puhk20fQfQ0fpvnui4cx4EQ4qg13sTQRfNit45Gm9cl0UAQRxP/QTkaDwxBEER/INxZ6kvhSqKBGJCQYCAIguh7SDQQBEEQBNEhSDQQBEEQBNEhSDQQBEEQBNEhSDQQBEEQBNEhSDQQBEEQBNEhSDQQBEEQBNEhSDQQBEEQBNEhSDQQBEEQBNEhSDQQBEEQBNEhSDR0Ez/3vHDVv1JKuK7b42k9/XP7Kz761+3p6xAEQRBEW5Bo6CbBS1wKOI4DAMEKoL1R/EVyHMeBYztwHAeShANBEATRB5Bo6Ca6rgfCYefOnXj77bexadMmvPvuu3jnnXd6rLz99tt455138N5772HTpk14//33se/zfbQGA0EQBNFnsEQikbWbunnzZsybNy9tW0NDA2688UY8+OCD0DQN8+fPx5/+9Cfk5OSkHTfUcF0Xhw4dwv3334/nn38eyWQSuq4HnoeeQAgBAEilUuCco6CgAF/+8pdxwQUXIBaLgfPBq//Cyw9v374dF1xwAerr6xGJRHDmmWfihz/8IfLz8yGlHNT3gegfvPHGG7j44oth2zYmTZqE6667DitXroRhGJmHEkSP4beB1dXVuPfee/Gb3/wGkUgEpaWl+MlPfoI5c+bANM1WHckNGzagrKwsbVt3oBa2mwghwBiDZVnYtGkT1q5di1dffRUvvfQSXn311R4ra9euxZtvvpnmefjss8+CpVEJgiAIorch0dAD+C/tzH97Cl9h+t4GIQQsywoKxTQQBEEQfQGJhm7iCwT/xR3u+ffUy9w/pxACmqZBCAHOeVAIgiCOBn6Adkfo6HFdJTNonOgd6I3TQ2QzVF88jB8/HrNnz8asWbMwc+ZMzJw5E7NmzepUmTNnDsrLy4Pfy8rKUFJSEngfiMFJuBFMpVKAF0NjWRaEEEgkEsFxtm13yx5c1w2mC/uzcqQ3ndh11DX9bY7jwHXdzFMQQwjpTQF3XTeI3/K3hQs828psHzuKX9ev77oubNuGlBKWZQW/ZxJ+doiegwIhewApJXbu2Inrf3I9Hn30USSTySDWIS8vD5dccglWrVoFTdOgaVpm9Q7hP5iGYQSeh2lTp2Hy5MkwTGNQexyGciBk+CXNGINhGEFDHPY+JRIJmKYJy7JgmmaX7Mx1XByuOozhw4dD0zS4rgvGmPrZUQJB09W1IpEIOOc9PhQ3EKBASGWXlmVB13VwxiEh0djYiNzc3DQx6bdVruuqY7vwfLqOC1eo+j6+3buui+bmZuTk5KR5eZExTDwY7NRvA492ICSJhh7AFw0/ueEnaaJBCIEJEybg5z//Ob785S8DEnBcBwwMjHc+gDF8vOu4sB2lrv0GfLAy1EWDn5vDMAwcOHAAf3n0L3jo4YegaRpy47lIJBOBqIjFYvjNb36D0tLSzFO1iX9vHdvB1//h69i8eTNGjx4Nx3FgmiaamprQ2NiIkpIS/PCHP0RlZSVs2wZjLGsjNdgh0dBiM35nJplM4oorrkBNTQ0AIBqNBvurq6vxhS98Ad/5zndQUFCQdp62CHsH/vKXv+COO+5AXV0dCgoKgmFZ13Vx4MABHHfccfi///f/IhaLtSkUBoON9hfRMLha2H6KZVmq4ZdCqW2t8z00xhikl23SsixouoZoNIpoNBrsIwYfvmgwDANSSowaNQpTp03F+vXr8corr+DJp57Eiy++iHfffRdvvvkmnnnmGXzwwQeBaPU9FW0R7hVueG8DXnrpJWzYsAGPPfYYnnrqKfztb3/D888/j7feeguapmHGjBmAJ1QZY8GQCTG08NsixhgikQhyc3NRUFCA119/HW+88Qaef/55PP/883jppZfw/vvv48UXX8TBAwfbtcVsSCnx7jvvYs2aNXjrrbfw4osv4rnnnsMLL7yAZ555Bjt27MDcuXMDkUL0PiQaegnGWJr7lrPOCwUfvx7zXMWmaR7xZUAMDnw7kqGYhbKyMlRWVgKh3kciobwNnHP8/e9/D8Z6XdcNhjOy4djKiwEAa9euRU1NDUzTzDwM8Xgcq1atQiQSCcaPpZSIRCKZhxJDgMz2zXVcnH322TBNs1UMAmMMH3zwAbZu25pxlvaRUqK6uhrvrn8XruuCcx6IYcuywBjD6NGjsXr1amoL+xASDb0IC4+xsRZvAUF0Br+x9GNi8vLycOKJJ6YNxYSHcJ577jkcPnw4yFbans35Hoympia89dZbSCaTSKVSrQRufn4+zjjjDOi6HngZaLrv0CbcvpmmifLycpSXl6eJVF881NbW4rHHHgvV7hgbN27Enj172rTjFStWYPz48dB1vZXNEr0DiYY+IptB+w9duBBEGF9ouo7qaTHGkJ+fj8rKSowZMybNZvxe2OHDh7FmzRokEgnout5uUKTjKu/Enj17sHv37qBHl9lAn3baaRgxYgQ450gkEpBSthpDJoYe0ptdY9kWRo4ciaVLl6bZjvDWyRFC4KWXXkqr2xE++eQT7Nu3L3NzwJe+9KXgGaG2tG8g0dBH+EZ8JMPO3B8+JnN75j5icOH30gzDgGGqWTOJRAKMMZSWlmLu3LmBHYS9DlJK3HrrrYGruD3b8D0NGzduxK5du8C8GRk+jDFEo1GcccYZ0DQNUshg/Lg9MUIMbnybEkLAcVXMTU4sB8uXL8fYsWMhpWxlH5988glefPFFWJaVtr0tqqqq8P7776OpqQnwBYo3K03XdUydOhWrV69u1Rb6ZGsnie5DooEgBgB+w+e7YceMGYO5c+fCMIwgGBYhofHhhx9i69atYB0YEmtubsb777+PqqqqVqJB13WMHDkSixYtQsSMwHbsYMyaGLr4dgZv+IxzDq5xTJs2DdOmTYOu60HcQZi77747GG5rDyklGhoa8OGHH6at5KtpWrCuzyWXXAJkDgMTvQ6Jhj4i/JChE54HgvBhXp4GeFPajjvuOAwbNiwIdvS9DVJKNDc34/XXX29zLNhHSomamhps3LgxCHAM26YQAmeffTZKRpUEs3/ITgnpzeqBJyz9IN0pU6Zg8eLFgZ1qmpbWvj399NM4cOBAmhDIhhACu3btwubNm9O2+8G9RUVFuPDCC9P2UVvaN5BoIIgBCOcc8+fPx6RJk2BZVqs4BMdx8Pe//x0NDQ1pQxeZCCFw4MABbNu2rdU5mOcGvvjiiwGmrukHY1KjPLRhjIGzljT2LJTAadGiRYjH40Bodo9PQ0MDXnjhBVWvbc0Ax3bw9ttvB3kfwkgpsXjxYowbNy5zF9EHtN2aEL1Gew1uplpuSzm3t48YHIS/18yfGWMoKipSwwaRSFq2PJ9PP/0UO3bsCHqE2WCMYefOndi7d28rl7EQAtOnT0dZWVnggvbrkO0RXGt5ffhiUgiBBQsWYMyYMUCWtk4IgbVr1yqbbMd0EskEXn31VTBvmrlva74NHnfccVmnBhO9D4mGPibzIeoq/nBH5rAHMXQQQuCCCy5ANBoNxo/9l7uUEvv27cMbb7zRrqchmUxizZo1aGxshAxFoHPOYRgGLrjggiGf8ZXITqZo9D1RI0eOxPHHHw+WZVaDEALr1q3Dtm3bWrWF4bZs3759ePfdd6F5qaLDbd2kSZOwbNmyViKX6Bvabk2IbuM/MP7P4X/bIlMMZJbMY7P9TAwdFi9e3CrdOzx7aGxsxLp161BbW6u2idb21NjYiLVr16YJC39fQUEBFi5cGDorQbQP5xyRSARnnHEGotFo1hf7oUOHsH79+lZtlhQSUqgZEhs3bsT+/fuzzrSoqKjAhAkThlTa7v4EiYZeRHprIXDOgwbb397Z4noruTne6oJSpJ+LGJyEe2mZPTMGBkjga1/7Wqt98OIaPvnkE+zYsSPorbkZK1Pu27cPmzdvhmG0XvSsoqICY8eOTdtGEMhil5nehIULFmLq1KmZ1cA5R01NDd555x00NjZm7g4CJP/nf/4nbcqm387FYjHMnz8fJSUlafWIvoNEQy8ivQjjZCKJZEpl2vMz7nW2hKe5SSkhpFLwMuTNIIYWXONgnOELX/gCiouL0/b5NrF161Zs3LgRjuOA8dZ28pe//AW2raZRhjEMA4sXL8bkyZPbjYkgiEw458gvyMcVV1yRtUOTSqXw3nvvYceOHcE2KSUkVLtWW1sbzPzx9/mMGTMGlZWVQX4Rou8h0dBLaJqGeDyO5uZmvPb6a7j33ntxzz33dLncddddeOSRR3D48GGVZCeU6AQ9GCtBDByYF7FeVFSEU045Ja23Jz0vV11dHd5++23U1dUhlUq1SrjzyCOPgHMe9PD8hnj06NGoqKhAJBKhxYCITuHb5Ze+9CUMGzYsbZ8vBD788ENs2bIFCHkR/KW233jjjWBIzbdnn4kTJ2LOnDlHTFpG9B4kGnoJ13WRSCRQXV2N++67D//6r/+Kf/mXf8F3v/tdfPvb38a3vvWtoFx99dVB+c53vtNm+dnPfhZEw/sLYNGDM7ThnEO4Av9/e3cfHVV54A/8e19nJpmEBAIJEJQAEUMSSFCgIliUWkCw7brWlmNBabc9eyxq212L291zattTsdoe+0dde7rr2mqFutviLq7bbs/+hLq2yvrC1iJUiIALCkqBBEgyM/fe5/7+mHkud24mYWYyMxmS7+ec55DMS24mPPPM9z7Pc59n7dq1CIVCEEIM6DXYuXMnuru7vQ9/2Ujv2bMHR48eTQufcoiira0NV111VVrvFlE25BDF1KlTce2113r1y99enT59Gq+88grOnDkDIQQsy/IC7b/+67+mzYXQdR26rqOiogJLlixBfX2991h/0KXSYGgoMtkjYFlW+pyEQSq6XLxEpPYRkMVNDXXIN4uipi8dTGOTpmlQNRWXNScvjXRd11uASTa8XV1d2LNnT1qds20bv/rVr9DX15cWDHRdh2maaG9vR0NDg3cGOFh9JQpyU0tIW5aFT33qU94GZ0EvvvgiPvjgA++qCze1CuQLL7zgtXlItYmu62L8+PFYtWoVwBA7ovipUwJK6lpjTdO8iZHB+2WR9/tvk7e7qfkLlmVlfBPS2KQoCuom1mHJkiXeWK+/7ti2jeeee84LowCQSCTwzDPPeI9FqpfBcRxEo1EsW7bM6wKW18kTZUvTNBiGgfnz56OpqckLBX579uxBV1eXVydVVcWuXbtw6tSptJ4GWffa2trQ3t7u3U4jg6GhSNzUmLKu68ku5FRylqlaT+0+GAwTgxVd1xGJROC6yQ2D3EC3XPANSWNLZWUlFi1ahPHjx6ct9ayk5jds27YN8XgcruvCsizs378fBw8eHBAGbNvGnDlzcPXVVwNA2qp/ss6xrlG2JkyYgKVLl3rLTPvFYjFs3749ra6++OKL6O3tTatjsv1cu3Yt59eUAYaGIpE9A5qmYeHChbj55pvxsY99DCtWrMCqVauwZs2atHLjjTcOWVatWoUPfehDGDdunHe5JZGkqio6Ojpw2WWXpV3tIHsbzpw5gx07dsBxHBiGgZdfftnbPVCS933yk59EZWVlsjFnBwMNQ1VVFRYsWIBx48YNCKhCCDz//PPJK3sUBSdPnsSrr74KEZgD4aSWp16xYgUDaxlgaCgSWbkbGhrwuc99Dj/5yU/wz//8z9i+fTueeeYZ/PznP8cvfvGLrIp87D/86B/Q3NwM4Q69CRGNPUIITJs2DXPmzPEWvfE30kIIPProo9A0DfF4HLt27UIsFvP9hOTjTdPE6tWrOQRGBaGqKlpbWzFt2rQBizG5rou33noLL774IjRNw7vvvot3330XlmWl9WhpmoaPfvSjqKur4+W/ZYChoYjc1OTFSCSCcDgMXdfTJvjkQgiRvI5ZdvG5HJKg8xRFQSQSwbJly1BTU5N2nxxeeOmll/D222/j8OHDePvtt9Meg9TPuO666zB9+nQGBioI13XR0tKCBQsWZAwNqqri6aefhm3b+MMf/oD33nsvbR8VJbVp2t133w3LsjLusUKlxdBQJIpvcxV5CZzrulCQfulRttTU5Eg5xwFK+pkkkXAElixZ4m0WJMn61tfXh+effx779+/HoUOHBowxCyG87YZZtyhfsr7JOlRRUYGrr74aVVVVafVKCIFIJIL/+I//wJEjR7B371709PTAsiyv7RRCoKmpCa2trUNedUalw9BQJG5qyV7btr0uNVe4BRkjzid00Oin6RomT56Ma665Ju12IQR0XUcikcC///u/4/XXX8ef/vSnAXVo+vTpmD9/PusXFYySuvR34cKFmDBhQtp9oVAIlmXh5MmT2LZtG37/+9979U5eseO6Lq677jpEo1EYujFgDRIqPYaGIlFS3WqyuK4LRc2vl4EoG3Lo66abbgJ8VzvAdxXFK6+8gueee85bL8Rv6dKlXsPu74VgfaV8yTp52WWXYd68eYBvvpeSuhzYcRxs3boVe/fu9Z6XSCS8sLvsw8sQrYzCBZfMLwcMDUUi5zPIxZowjB4C+Rz5fH8JPobGLnkp79KlSzF79mzv2ng3tcAYUjsMvvbaaxC+GeoAEA6HsXLlSm/ZX00uIsZ6RcOgpE6erISFDbdvSJ48pYZZ4/E4AMCyLOzZswfHjh3z6mUoFIKmabj66qvRMqfFW8xOXk4cbBOpdBgaiEaBYOO5ceNGbwVRJdVF7A8Ccm6M67owDANtbW2YM2eO93g5h4ZouDRNQzgSxuLFi9HU1OQFB68HVlGQSCTS5iwIIWCaJjo6OjB16lS4qcvXWSdHHkNDiQQbdaJi+sQnPoGJEycCgYW/ZBiQdVEGifnz56OxsdF7HFEhyAAKALqhY/369UBqETG54qi/fkqWZaGiogJXXnklqqqqvHBBI4+hgWgUkhMigw1yMLyGQiFEo1FcddVVqK2tZcNMBeWvT5qm4bbbbkNVVZU3dDaYUCiExsZGXHnllQwMZYahoUSGW+llYz9YIQpavXo1kOpdCF5e6Td+/Hhcfvnl3hmhFKxjrG+UK/+kR1VVvSt0/HUtWLeUVO/DrFmzvDVD/HWO9XBkMTQQjULnzp3D3Llzcemll3oNd/DMznVdxGIxNDc3o7m5Oe0+omKIxWJYsWLFkEMTSAWDFStWDLpDJo0chgaiUUjXddTW1mLu3LnQUhuiZeptkDsRZtobgKjQFChYuHAhJk2aNGCFSL9wOIzly5cPGipo5DA0EI1ChmGgvr4eixcvhmmaQCpI+IODqqqIRCK4/vrrGRioKILDDoZp4JJLLkFbW9uQcxVaW1u5nHmZYmggGoVUVYVpmpg1axYmT54MTdPgOI539YRssKuqqtDR0TFgPgNRMcRiMTQ0NOCKK67I2PMlfeITn4DjOIjFYtykqsywpSAahVzXha7r6OjowMyZM73th93UYk+apsG2bSxcuBDRaBTxeJxbrlPRVVRUIBKJYMaMGYhGo8G7PTfccEPaYk5UPhgaiEYhJbVgTn19/YBLKWVvg6ZpybUZ3ORwhqKycabikr0Lzc3NmDx5MoQQXq+YpmneuiF1dXXe4mMMDeWFoYFoFHIcB5qmwTAMrF69Ghs3bsTGL27EnXfeiS9+8Yv44h1fxN13342rrroKUAZeWUFUDLKna/bs2fjsZz+Lu+68Cxs3bsQXvvAF3HHHHbjjjjtw1113IRwOwxXJwMDQUF4YGgqF9ZrKSCKR8M7SPvWpT+GhBx/CQ999CA9+50E89OBD+M6D38G3v/1trF69mg0zlYyb2v23ob4Bd955Jx566CF877vfw8MPP+yVBx98EKFQCFAGLkZGI4+hYZjkpiuKosA0TW+DKlVVoWkaEomE9xiiUjFNE2pqfwlNTV5yqaU2tFK15NemaaKiogKKb6lfomJSVRWmYQJKso4aZnJYzF//DMOAYRhenaXywpZimOQYneu6iEajGD9+PKqrq1FTU4PKykrU19ejpqYm+DSiokrb3Md/xub72l+ISkHWQf/3sv75v5ZhgfWz/DA0DFM4HAYATJkyBXfeeSd+9atfYdeuXdi5cyd27dqFbdu2YcWKFcGnEZWE1yBzkiOVCQaBixtDQ4GoqorGxkbMmTMHM2fOxGWXXYampiZceumliEaj3gQgWYiIiC42DA0FIseLEbikTd5GVErBbl//bTzTo5HCOnjxY2goEL4BiIhotGNoKBImaioHwd4GIqLhYGgYpmA4GCwkXOh+omJh3SOiQmFoICIioqwwNBQJz+6IiGi0YWggIiKirDA0EBERUVYYGoiIiCgrDA1ERESUFYYGIiIiygpDAxEREWWFoYGIiIiywtBAREREWWFooIsStxcnIio9hgYiIiLKSl6hwXVd2LYNTdOCdxEVnFyK27ZtqKqKUCgEANA0Dap6vgpzuW4qBV3XYVkWXNdFPB6HaZpp9ZCoWGzbhuu60HXdq3OappW07cu7ppumiVgshkQiAdd1WViKVpAKqpZlob+/H/F4HK7rwnEcCCEghAB8bygWlmIVy7IAAKFQCKFQCIZhwE2dRDmOw8JStCKEgKIo0DQNsVgMlmUhkUh4AbZUlP7+/oxH27dvHzo6OtJuO3v2LDZv3oynnnoK4XAYs2fPxr333ouamhrvMfkmnnxedD7HKtVxUMJj5XMclPBY+RwnSIaD9957D1/5ylcQi8Wg6zquu/Y6rFu/DnV1dbAsK6/er3xeE41Ntm3jwIED+OpXvwrHcVBXV4cvfOELWLBgAUzDDD6cqKAc4eDs2bPYtm0bfvGLX0DTNLS1teHrX/86WltbYZrmgPZ29+7daGlpSbttOPIKDVu3bgUAhMNhNDY2IhQKQQgBTdPyaoBlis9FvrtHlvJY8gw4F/l0c4621+R/LfK1CSFgGAbOnj2LY8eOwXEcuK6Luro6TJw4EYqiwHEchgYqGlkP+/v78c4770BVVWiahoaGBlRXV0NRlKzrUvBxwe+JgmR7LYTA8ePHcerUKaiqirlz5+K+++5DW1tb+YeGUCiEWCwGwzC8Blt2oeQi3zdMrsfBRXCsUh0HJTxWPsfxP8dNdQuHw2EkEgnYtu2NI6uqilgsBsdxvPCaq3xeE41dsi7K3i5FURAKheA4TvChg/LXb/l1Pu8TGjsURfHaP13XYRgGLMtCS0sLvvGNb2Du3LnlGxp+9rOfQQiBRCIB0zQRj8e9lK2q6oBf+kLk2WSucj2DRZ5nykoZn5Ujz+OU82vy/26yXjmOA8Mw0N/fj6qqKmiaht7eXu/NI+tjPq8pn7pHY5ds8wzDSJsUmQv5eH/bl+vPoLFFVVUYhgGkJj/GYjGoqor58+fj61//OubMmVO+oeGnP/0phBBobm7G+vXrgdSLsG3be1G5yucNE/zjZKNUx0EJj5XPcVDCY+V6nGBDqmkaNE1DPB7HBx98gEceeQSRSASWZaGzsxPLli3DpEmT0Nvbi3A4HPxxF5RPEKKxyXVdHDlyBD/96U/R09ODhoYGLFu2DLNnz855aMz/vsj1PUJjj+xZPXXqFF5//XX89re/heu6aGlpwX333VfePQ1bt26Frutoa2vD448/ntZQu64LZPyJQ1Dye9O4ItcDAYqax3HK/DXlc6y8XlO+f798XpOP6/tFDx8+jFtvvRXd3d2oqqrCihUrcM8996CiogK6rqc9L1vD/f1o7FA1FS+99BLWrVsHIQRmzZqFe+65Bx/5yEeCD81Kvu9DGoNSTe/JkyexZcsWfP/730dlZSUuv/xy3HfffWhvb794QoP/6ol8zkSRZ9LO51ilOg5KeCwFilehspXPcVDC15TGPf+GOXz4MG666SYvNNx44424d9O9qKisyPlMTxr270djhqIo2LVrF9avXw/HcTB9+nTcc889WL58eV6hlXWPcnXq5Cls2boFmzdvRjQaxezZs0saGnIbbA6Qv5yb4XrmXArc4f+MYpZy//1cZLjtAqXsX9MgJTiU4LouHJG8hrkQdZGFZagi3zdCCDiO410nL+c1sLAUs8AFhCuSX4+QvEKD/IWV1KxhOdaSb1FUZcBtFyqKkvtz8n1ePr9fKctofE3+oqgKFCQnR6qq6r2BZFBQU3+DfP4OLCy5FNnjJeuaruteCT42myLn62ip1U1ZWAYrQDIwaJqWFlJLLa/QIMkXQlRKwe43opFSyEZbBl8WlkxFDVyZGLy/VPipTxcl+SYiGgmyp8vf60o0FuTd6voTdtqYC1ERuDg/nuwnG2s22jQSgvWRqJiU1PiY//O21HVwyNCQqftDfj1USAg+L5uSq+Dzcym5Cj4/25KP4M/ItuQq+PxsSz6CPyPXIskJnxl/dq6Xj/gEj8fCMlTxG6odJCq4QDM3EsFhyNBAVI6UDON7RKXi71ktZWNNhDIIqgwNRER5GOnGm8YeeaI0kvWOoYGIiIiywtBAREREWWFoICKinATndRRzqCZ4DP+xgivEUvExNBARUc4yBYXgB3uw5Eo+J9NzXdeFK1w4jpNxGW8qDoYGIiLKSfADupgf1DIcZDqWoipwHAdqanl5Kj6GBqKL2Eg2lMX8oCDKhhACSmrdICoNhoYCsCwLtm0nd76zHdi2Dcuy4DjOgHScb0GqkZZdcbZte7fT2OUK16sLjpPc7dNfZwrNTS2fLJzzY8nFPB5dHIILXwXbLtkW5ktRk8FAzmGQx+rt7QVSP5/rtpQGQ8MwOXayoZZvGlU7vyuZ/IAvVHHs5BtD7ohHBOX8xnH+a7hd14VwkiF2OEU4Im2PBXmc4IcCjU2yzimK4gXYeDwOx3G8EIvU5oaWZQWenZ14PA7btr0F3Wzb9kokHIGa2i2USoOfPMPgui5UTYVpmmk9APJNI4NEIYoQAgkrAdu24TjJ3gz5dbBRp7FDURT09/fj1KlTiMfjSMQT54uVgO3YwyqWbSEWi6Gvrw/nzp1Db28vYrEYbCe9p0vhWd6YovhWZZV18Pj7x9Hb24t4PI5z58555fjx4zh9+jQMw8i5nVIUBbquI5FI4OzZs4jFYkgkEojH44jH4+jt68W7777rtYVUfEp/f3/G/8V9+/aho6Mj7bazZ89i8+bN2LJlCzRNw/z58/HEE08gEomkPW6sNSBCCHR3d+PVV1/FoUOH0NvbCyEEdF0Hhhh3zuXvJM8mXTeZ5isrK9HW1ob58+ejoqIi+PBRxR+KDh06hE9+8pPo6elBNBrFjTfeiE2bNqGyohKaPvbONlzXRVdXF1555RWcOHHCu03+m6k3IPj9UOSHgnyOoiiYMmUKFi9ejIaGBui6PuZ6vX73u99h3bp1sG0b06ZNw9e+9jVcf/31MAwj+NBRK1iH4vE41qxZg/fffx+GYXh/CyEEYrEYli9fjk2bNqGhoSGrds9NDUWoqoqnn34ajz76KI4fP47Gxkb09fV5x4/FYrjllltw7733Dvi5we8vdvI1nzx5Eo899hgefvhhRKNRXH755bjvvvvQ3t4O0zQHvO7du3ejpaUl7bbhyDs0GIaBjo4OPPHEE6P+Q+tCLMvC0aNHcf/99+OZZ55Bb28vTNMMPsz7z5QNefA/90Icx4FhGLBtGzU1NfjsZz+Lr3zlK6iurs75Z11MGBqG9vzzz+Pv/u7v8OabbwbvAgL1bbAgcSH+x8+ZMwePPfYYWlpaMtbz0e6ll17CunXrYFkWpk2bhr/927/FRz7ykTEVGjLZuHEjHnnkkbTblNRwamtrK37+859j5syZWbVVruvCsiyoqopNmzbhRz/6EWKxmFePZZswfvx4/PDRH+LPbvqzAeE1m+NcTMolNIytU4Qikf9JlmWhv78fsVgM/f39Xunt7UVvb6/XXdfb25t2/4VKX18f+vr6vC66eDyO7u5uxONxDk0QXNdFLBbz6lmwyDopS/D7XEtvby9s2+Y4Mnn6+/vxsY99DDU1NYAvLKiqCiEEurq68Ic//CGntkrXdbz//vt48803kUgkvGFg/6TKSy65BIsWLQIy9H5QcTA0FJCckOOfsCMruPxwl8U/L+FCxf9GESI5MU0IAcMwEAqFgr8GjTHyzEvX9QFF1kdZJwvBMAxUVlZCTU32JVIUBc3NzZgzZw40TUura4qioK+vD//2b/+W9pwLURQF+/btw8GDBwEAtm0HH4JFixZh8pTJA3oZqHj4ly4gIUTaxESZsk3TREVFBQzDQDgcHtCwZ1PkOKFpmjAMA5FIBJWVlXnPSKaLn3DOB1EhBBKJhFcAIJFIpAVVN9W1q2lazsVfFysqKtDd3Q0A0NjbQADC4TAm1k3EDTfcADW10JK/F9QwDDz77LOwEsn2Klgv5eMkN3X1z969e/HBBx949VsKh8OoqqrC5z73OaipKzPkiVWmQoXDOQ0FYNs2jhw5gm984xv4l3/5F/T19UHXdTiOg+rqaixfvhxz586FbdvQdR0idYlmLmRj72/4Fy5ciCVLlmQcxxpNOKchM+EIQEnOafjyl7+cNqdBSU1YXLVqFaZMmTLs+uFveOvq6rBq1SpMnz59TIYGzmnIzHVdPPvss/j85z/vTcqVNE2DEAJbtmzBLbfc4j0+2CMhua6LM2fO4K//+q/x+OOPp7UB8mctWLAAO3fu9IJtsI4P9rMvVvL1j/ScBoaGAsgUGuR/XkNDA7761a9i/fr1sCwLuq7Dtm0oyLESK+ffLEpq6EN2EyupGe6jFUNDZkOFBtd10dnZie9+97u48sor056XD39o0DQNkUjy+ni/0VwH/RgaMhNC4O2ut3HX3XfhP//zP6Gkhs3kyY6qqli+fDm2b98OPXVl2WAf7JZl4eDBg/jMZz6D1157LS1gyH9/8IMf4Pbbb0coFIKSYVXIwX72xapcQgOHJ4rE9c0/iEajiEQiqK6uRmVlJaqrq1E9rhrjxo3LqUSjUVRXV6Oqqgq1tbWorKwMHpYI8DWSFRUVqKqqSta5ApWKiooBDRMRAEy7ZBo6OjpgGIY3j0Z+2AkhsGvXLhw8eNAbxh2Moih47733sH//fu97+OaN1dfXY+XKlTAMg3WxxBgaisRNTXZUUouTKL7FUOS/ippDCSz2hNQbiW8YyqTQ9SJY/wr98+nipygKQqEQli9fjgkTJsDNMLegu7sbL/zmBW8DqqG88cYb6O3tTWvvhBCwbRsLFy5EfX192vAY62dpMDSUiL8Ss1LTaML6TPDVg87OTsycOdO7XYYDRVFgGAb+6//9F+KJ+IDhLX+4OH36NJ577rm058p/TdPEqlWrxvxw0EhhaCAiooKpra3F8uXL04KkHK51HAcHDhzA4cOHvduDjwGAEydO4H//93+9+2WYUBQFl1xyCVpbWy/YU0HFwdBwkWJXHI0U1j0aiuu6uPHGG71JkH6qquLIkSP43e9+N+iHvuu6eO2113D69Om0IIHUvIiFCxdixowZ3nyGbAoVDkMDEREVjJZaNnrx4sUDgoFt2zh37hxefvllnDx5Mu0+pEKF4zjYunVrxisBKisrMX/+fEyYMCHtdiodhgYiIioY13URCoWwbt26AVdIqGpyV+C33noLR48eBVJBwnVdwE32Ytm2jV//+tfeaqP+4NDU1IS5c+cOCCNUOkOGhkxdPPJr/7XzcrxJFiIqASX5fvSuxhmiEJVKIpGAEAI33XQTJk+eDD21E6r83Ojt7cW+ffvwxz/+EUhtxCfrqCtcPLv9WbipDatk/XVdF5qmobm5GR0dHRl7Iag0hgwNREREuQiFQlAVFVVVVbjhhhsgUgvSyQWdhBA4e/YsXn75ZZw5cwa6ridPNhXAdmxse2ab9zjXt6hTJBLBsmXLUFtbO+DKCyod/uWJiKigbMdGKBTC6tWrEYlEgNQqj5LjOHjhhRdw7Ngxb7KkEAJHjx7F7t2708KC7GWora3F9ddf7+1twV7tkcHQQEREw+YfopZDEW1tbZg9e3bGD/g//vGP2LNnT3JZ/dQw2+uvvz5ggqQMDZ2dnZg5Y2bawlAMD6XH0EBERAUlhw8mT56MZcuWDZgQqSgKEokEfvnLX3p7UyiKgldeeQXnzp1Le6ymabBtG2vXrvWGMhgWRg5DAxERFZR/HsL8+fNRV1fn9SbISZGhUAi//vWv0dfXB0VRcOzYMfzP//wP4vF48Mehvr4eN9xwA2LxWPAuKjGGhiLr6+vD3r178Zvf/MYrO3bsyKv89re/xZkzZzLuG0/kJ2epv/7669ixYwd27tyJnTt3nq9Pz+dWdu/enZwV75y/aoroQhRFwbx589Da2jpg8mIikcB7772H//7v/4bruujq6sL//d//Dbgqwk0tFmWaJsKhMADkvkswFcyQW2N3dnam3XbmzBk88MAD2LJlC1RVRWdnJ5588klvoosU/E8f7TJtjW0YhjdW19jY6P2N8v2gV1UVjY2N+P73v4+WlpYBK62N5r+5//Jebo19npyVvmPHDnzpS18asDV2OBxGfX09IpGI9/dz5Qp7uVU/XPPha/C9730P0WjUO1Mcq7g19tCCbVssFsM999yDn/zkJ+jv7097nBACaz+9Fk88+QSeeOIJfOlLX0Jvb2/a803TxNNPP43ly5ejoqLC+/n+OjgW6qN83dwae5Tyh4Njx47hwIED6OrqwsGDB3Ho0CEcOnQIhw8fzqm88847iMfjAwIDUZCu6+jv78c777yD/fv348CBA17p6urCga4DOZX9+/fDNE1omjagUSIaSjgcxjXXXIOqqqq022Vd2rFzB9566y3s2bMH/f39ME0z7XGzZ89Ge3s7wuHwgEBCpcfQUCSqqnpro1uWBZHarMW2bdi2DSFEzsW2bSBDkifyc1PbspumCcMwoGmaN5aczUJQmUokEoFpml4dJMqGrIuLFi1CXV2ddxtSl10CQE9PD372s5/hjTfegK7raZdmAsBHP/pRTJo0CYlEAolEIu0+Kj2GhiIRQngrmoVCIei67jXisui6nnXxdwknEgmvF0NikCA/JXXJW7C4qVnq/hCRTRFCoL+/Pxl4Oa+BhuAPm0iFg4aGBlx33XVwU5dPwtfTkEgk8OMf/xi///3vvToq692kSZOwcuVKRCIRhEKhAb0QVHoMDUWkaRoqKirQ0tKCZcuWYcGCBbjqqqtw9dVXY/HixTmVJUuWJLv4olVQuRoaDUFJrb5XVVWFhQsXYunSpQPqU67lyiuvhKoke89kw87gQBeiKIrX0yUnM8qeBE3ToGkahBA4fvw4uru7vZ4seRlmZ2cnGhsbAz+VRhInQhbAYBMhhRCYOnUq/uIv/gJrVq+BoqYn8FwIIaCqKmbMmIFIJJIxOOTzcy8G8kMKnAiZRgwxEVKkFtbZtGkT2tvbh103IpEImpqakr0Uigo3NZMy3/p8MeNEyNyI1NBsIpHAsmXL8Oqrr0JVVei6DkVR4DgORGAdByEEKisr8Vd/9VfYtGkTwuHkVRN+/no3FuqgbAPLeiKkPJvwn1XIr8diY5GvpqYmdHR2YN68eWhvb0dbW9ugpb29PWORz62srORESLogVVURDofR3NyMuXPnptWluXPn5lxmzZrlnTEqKt/3lB35uaGk5sVs2LDBu12GhUyfI4ZhYNy4cejs7MwYGGjkDBkahhJMef5CSTJg+XsF5Fhd8G+WS/Eb7HYa25TUzoCFEqxnim93TaILkXXl5ptvRnV1tVc/HcfxJkT6WZaFpqYmXHHFFQPav2A9ZB0srbxDA+WukJWbbxYaSax7lC1/W1VbW4slS5ZcMNDquo7m5mZMnTr1go+l0mJoKBF/I8s3ARGNRZqmYeXKlRnH3v2i0SiuueYanhyVIYaGEmNgIKKxIjikoKoqFixYgLq6ugGTH/0Mw8DKlSu9S4WpfDA0lBADAxGNZUIITJo0CZ2dnRmvAJMWLFiA+vp6zpspQ4P/r1FBMTAQ0VinKAqmTp2KRYsWDdmDsGbNGriu6y1kR+WDoYGIiEpCDlHMmDED9fX13mq5chhCCIFIJIJFixZ5V54xNJQXhgYiIiqpqVOnYsqUKbAsC4lEIm0Ioq+vD01NTWmXp1P5YGggIqKSkGsztLS04Gtf+xoeffRRPP7443jsscfwT//0T3jsscfwyCOPIGSGADf5eIaG8sLQQEREJaNrOiZMmIA1a9bg9ttvx/r163Hrrbfitttuw+23347Pf/7zULXkyqOqwo+ocsP/kSJQCrwaHxHRaKAoCjRdgytc6Lru7Umh67q3e6rsXRCO8PbrofLB0FAEDA1ERJkpqZ0v5deyvVS15KRHVUnOZbCd5I6XVF7yDg3+D0WZDmUZ6+SbQCbmoa5HJhoO13UHvXSNZ2hUruSmZ7quwzRNbydbTdOgqMmt3VVVRWozVSojQ36ayRQoi/82BoSB5N9EhgSZpjNtyEJUCPKsLbgJmqyDwfcwgwSVC3+9NQzDq7P+2+TwxGCFSm/I0ED5kZVZhgbbZjcbFZ4QArZtw7Is1jEiKgmGhgII9rgoigIhBBKJBACgoqIi7X6iQtA0zeve1XV9wBChDK/B4cPg44jKAXsPLg4MDQVgWzashOVVeCEEVFX1xupkeCAqJP/COIpvyNBNzaWRQUKOFzMoENFwMTQMk23bMEMmNF1DNBrF+PHjEYlEUF1djcrKSkSj0UEnqhENh2EYyYljioJQKITa2lqvVFVVIRKJJJfhFQwKRFQYDA3DJM/y6urqcPPNN+P+++/Hd77zHWzevBkPPPAANm3ahKVLlwafRjRsskdhzpw52LhxI7797W975aGHHsJf/uVfYsaMGQMmkxER5YuhYZjkDODq6mosWbIEn/70p7FhwwZs2LABt912G9auXYtLL700+DSiYVNSV0nU1dXhlltu8erdhg0bcOutt+LjH/84xo8fz0t+iahg2JoUiBxDNk0ToVAIoVDI+9p/lnehQpQtf53x1ztZ90zTzFinWN+IKF8MDUSjHIMpERUKQwMRERFlhaGBiIiIssLQQERERFlhaCAiIqKsMDQQERFRVhgaiIiIKCsMDURERJQVhgYiIiLKCkMDERERZSWv0CC31+XqckQ0VrH9o5E2Etvd5xUaJFVVue0zlZwQwtvhkQ03lZqiKGntHusgjQTTNL3QUMrgMKzQQDQSDMOAoihwHAeO46S9cUbiTURjhwyr/uBKNBIMw/DqYSnlFRrkG8WyLG67SyWnqmpaww0ALkr7xqGxS7Z/iqKUvMEm8huJ4JrXJ758s/i76Hh2R0XnJutZf38/hBDQdd3rdZDhVQ5ZyDrKwlLIIuuY/Fp+D18byMJSjOKvb67rwrZt77ZSUvr7+zN+0u/btw+dnZ1pt505cwYPPPAAnnzySQDAFVdcgccffxzV1dWwbRuu68IwjLTnEBWKbdvo6urCunXrcPr0aYRCIdx888348pe/jKqqKriuC13Xvcf732hEhbJ79278+Z//OXRdR0NDA771rW/hQx/6ENs+KioFCqAAPT09+Pu//3v84z/+IxRFQWtrK775zW+ivb0dpmkO6HnYvXs3Wlpa0m4bjrxCw1NPPQVFUdDc3IyNGzdi0qRJSCQSXoPNxpoKyfX1ap04cQKbN2/GqVOnEAqFcO211+LjH/84otEo3EBXHeshFZqu69izZw/uv/9+JBIJNDQ04DOf+QzmzZsH0zSDDycquJ6eHvzyl7/E9u3boSgK2tra8M1vfhNtbW3lGxq2bNkCVVWh6zqmTJkC0zTR29uLcDjs9TgQFYrrurAsC6ZpIpFI4P333wdSV1HU1NSgsrISruuioqIire6xHlKhqaqK06dP4+TJkwAATdNQV1cH0zTTermICk0OSWiahu7ubnR3dw8IDaFQKPi0kQ0NPT09ePjhh/HjH/8Ytm17szflWaCqql5DHUw7RERElD//fJpwOIyenh50dnbiW9/6FjrmdUA3BgbXEQsNruuiu7sbP/zhD/HUU08Bvks+ZO+CfEEMDERERIUjJ3gLIaAoCjRNg6ZpmDlzJv7m3r9BR2dHxqsZSxYaDh06lHYgx3bQ29eL3bt3Y+/evbBtG7quw/XN7Mz0CxMREdHwBEOD4zhQVRV1dXX48Ic/jIkTJ2Y8Yd+3bx+ampqCN+dt0NBw4MABtLa2ekFALqRjWRZs2/Z+cRkaNE1L6zohIiKiwvH35quqCsdxoGkaKioqvFDhJ4TA3r17MWvWrLTbh2PQ0HDo0CE0NzcPekWE/3v5izI0EBERlV4wMMB3mfr06dODd+Vt0PGEUCgEx3G872WKkUVVVa9kSjhEREQ0chzHyXhFxXAMGRr6+vqCNxMREdFFoK+vr+ChYdDhCXk9fHNzc/AuIiIiKnMHDhxAfX19QRceG7SnQS6k4x+iICIiovInL1woZGDAUKEBAGpqatDT0xO8mYiIiMpYd3c3ampqgjcP25ChYcKECThy5Ah7G4iIiC4SQggcPXoU48ePD941bEOGBgCYNGkS/vSnPwVvJiIiojJ04sQJTJo0KXhzQVwwNNTW1uLMmTOwLCt4FxEREZURy7Jw9uxZ1NbWBu8qiAuGBgBobGzE3r17vY2piIiIqLwIIfDmm2+isbExeFfBZBUaFEXBpZdeiq6uLq74SEREVGZc1y346o+ZZBUakNqGc/Lkydi/fz97HIiIiMqEEAL79+/HlClTEA6Hg3cXVNahAamtsOvr6/HGG28gkUgE7yYiIqISSiQSeOONN1BfX+/tFVVMg64IORTXdXH06FFUV1dj4sSJ3BKbiIiohIQQOHHiBM6ePVvUOQxB/x9p6oObCsBkDgAAAABJRU5ErkJggg==)"
      ],
      "metadata": {
        "id": "AnAVI3eE6GFA"
      }
    },
    {
      "cell_type": "code",
      "source": [
        "#exercicíos\n",
        "#Q001 - faça um programa que vende um garrafa de água:\n",
        "#a) Se o cliente escolher água natural, será cobrado R$1,50\n",
        "#b) se o cliente escolher água com gás, será cobrado R$2,50\n",
        "\n",
        "agua = input('você quer agua com gas ou natural?')\n",
        "if agua == 'natural':\n",
        "  print('você iria pega R$1,50')\n",
        "elif agua == 'gas':\n",
        "  print(' você iria pega R$2,50')\n",
        "else:\n",
        "  print('Faz escolha valida!')"
      ],
      "metadata": {
        "id": "fRSQmEUW6v6M"
      },
      "execution_count": null,
      "outputs": []
    },
    {
      "cell_type": "code",
      "source": [
        "#Q002- Altere o programa anteriot para considerar a quantidade de água\n",
        "agua = input('você quer agua com gas ou natural?')\n",
        "quan = int(input('Quantas água você deseja'))\n",
        "if agua == 'natural':\n",
        "  preço = 1.5 * quan\n",
        "elif agua == 'gas':\n",
        "   preço = 1.5 * quan\n",
        "else:\n",
        "  print('Faz escolha valida!')\n",
        "print('você me deve R$',preço)"
      ],
      "metadata": {
        "id": "WPs8aOQKy8m6"
      },
      "execution_count": null,
      "outputs": []
    },
    {
      "cell_type": "code",
      "source": [
        "#Q003-faça um programa de uma sorveteria, onde o usuário pode escolher:\n",
        "# a - tipo de sorvete casquinha (R$1,50), casção(R$2,50), cestinha (R$4,00)\n",
        "# b - sabor do sorvete: morango, creme, chocolate\n",
        "# c - Cobertura: Caramelo(R$1,50), morango (R$1,50), chocolate(R$1,50), sem cobertura (R$0,00)\n",
        "#Apresente o valor a ser pago\n",
        "tipo_s = input('qual tipo do sorvete:(casquinha, cascão e cestinha)')\n",
        "sabor = input('Qual é o sabor? (chocolate, creme e morango)')\n",
        "cobertura = input('Qual é o tipo de cobertura?(caramelo,morango, chocolante ou sem cobertura)')\n",
        "valor = 0\n",
        "\n",
        "#tipo de sorvete\n",
        "if tipo_s == 'casquinha':\n",
        "  valor = valor + 1.50\n",
        "elif iipo_s ==\"casção\":\n",
        "  valor += 2.50\n",
        "elif tipo_s == 'castinha':\n",
        "  valor += 4.00\n",
        "else:\n",
        "  print('seu perido é invalido! ')\n",
        "#tipo de cobertura\n",
        "if cobertura == 'caramelo':\n",
        "  valor += 1.50\n",
        "elif cobertura == 'morango':\n",
        "  valor += 1.50\n",
        "elif cobertura == 'chocolate':\n",
        "  valor +=1.50\n",
        "elif cobertura == '':\n",
        "  pass\n",
        "else:\n",
        "  print('seu perdido é invalido')\n",
        "\n",
        "print('seu sorvete', tipo_s, 'de', sabor, 'cobertura', 'custará: R$', valor )\n"
      ],
      "metadata": {
        "id": "t-GthOG9hTt5"
      },
      "execution_count": null,
      "outputs": []
    },
    {
      "cell_type": "code",
      "source": [
        "nome = 'Thamara'\n",
        "print('Thamara' in nome)"
      ],
      "metadata": {
        "id": "I1ZKJfbByva6"
      },
      "execution_count": null,
      "outputs": []
    },
    {
      "cell_type": "code",
      "source": [
        "# Q005 - Faça um programa que recebe um número em segundos, converte esse número para horas, minutos e segundos.\n",
        "# Exemplo:\n",
        "# Entrada: 556\n",
        "# Saída: 0:9:16\n",
        "\n",
        "# Entrada de dados\n",
        "seg = int(input(\"Entre com um número em segundos: \"))\n",
        "\n",
        "# Cálculos\n",
        "horas = seg // 3600  # Horas inteiras\n",
        "seg = seg % 3600     # Resto de segundos após dividir por horas\n",
        "minutos = seg // 60  # Minutos inteiros\n",
        "segundos = seg % 60  # Resto de segundos após dividir por minutos\n",
        "\n",
        "# Saída formatada\n",
        "print(f\"{horas}:{minutos}:{segundos}\")\n"
      ],
      "metadata": {
        "id": "rsCwqn66z3u5"
      },
      "execution_count": null,
      "outputs": []
    },
    {
      "cell_type": "markdown",
      "source": [
        "**Estrutura de repetição ( while, for , break, continue)**"
      ],
      "metadata": {
        "id": "MPo8NRwJ2yYK"
      }
    },
    {
      "cell_type": "code",
      "source": [
        "#numero 1 ou 10.\n",
        "# while, quando isso for verdade, ele vai roda.\n",
        "count = 1\n",
        "while count <= 10:\n",
        "  print('olá')\n",
        "  count += 1 #count = count + 1"
      ],
      "metadata": {
        "id": "MuRP6sDt3FOE"
      },
      "execution_count": null,
      "outputs": []
    },
    {
      "cell_type": "code",
      "source": [
        "quant = int(input('Quantos oii você quer?'))\n",
        "count = 1\n",
        "while count <= quant:\n",
        "  print('oii')\n",
        "  count += 1\n"
      ],
      "metadata": {
        "id": "Ekxc7IcV4K51"
      },
      "execution_count": null,
      "outputs": []
    },
    {
      "cell_type": "code",
      "source": [
        "#fazer um lanço eterno.\n",
        "\n",
        "while True:\n",
        "  print('ola')"
      ],
      "metadata": {
        "id": "ipqgWWi_4_qC"
      },
      "execution_count": null,
      "outputs": []
    },
    {
      "cell_type": "code",
      "source": [
        "while True:\n",
        "  senha = input('entre com a senha')\n",
        "if senha == 'aa':\n",
        "  break\n",
        "else:\n",
        "  print('22')\n",
        "print('sai!porra!')"
      ],
      "metadata": {
        "id": "_BtZ7P0k5VNm"
      },
      "execution_count": null,
      "outputs": []
    },
    {
      "cell_type": "code",
      "source": [
        "contador = 1\n",
        "while contador <= 15:\n",
        "\n",
        "  if contador %2 == 0: #se ele for divivel por 2\n",
        "    print(contador)\n",
        "    contador +=1"
      ],
      "metadata": {
        "id": "AcmEq1vXUy3e"
      },
      "execution_count": null,
      "outputs": []
    },
    {
      "cell_type": "code",
      "source": [
        "for i in \"Thamara\":\n",
        "  print(i)"
      ],
      "metadata": {
        "id": "REzmsmK6qy64"
      },
      "execution_count": null,
      "outputs": []
    },
    {
      "cell_type": "code",
      "source": [
        "#faça um programa que conte quantas\n",
        "#vezees a letra 'a' aparece em uma palavra\n",
        "\n",
        "palavra = input('entre com uma palavra:')\n",
        "qtde = 0\n",
        "for i in palavra:\n",
        "  if i == 'a':\n",
        "    qtde += 1\n",
        "print('a letra a possui',qtde,'ocorrencias na palavra',palavra)"
      ],
      "metadata": {
        "id": "g7SiDCbuj5JY"
      },
      "execution_count": null,
      "outputs": []
    },
    {
      "cell_type": "code",
      "source": [
        "#Faça um programa que receba uma quantidade indefinida de valores correspondentes a “saldo em conta”\n",
        "#mas quando o usuário apertar “enter” sem digitar valor algum, o programa para de receber valores,\n",
        "#e exibe a soma te todos os valores digitados anteriormente.\n",
        "\n",
        "total = 0\n",
        "\n",
        "while True :\n",
        "  entrada = input('entra con o valor do saldo')\n",
        "  if entrada == '':\n",
        "    break\n",
        "\n",
        "  total += float(entrada)\n",
        "print(total)"
      ],
      "metadata": {
        "id": "vwnk2Ne8mFGx"
      },
      "execution_count": null,
      "outputs": []
    },
    {
      "cell_type": "markdown",
      "source": [
        "**Ementa (2/3)**\n",
        "\n",
        "**lista e tuplas**\n",
        "- introdução ás lista e suas operações (criação, acesso, modificação)\n",
        "- funções de lista (len,append,remove,sort)\n",
        "- introdução ás tuplas e suas caractetísticas\n",
        "\n",
        "\n",
        "**dicionários**\n",
        "- criação\n",
        "- acesso\n",
        "- modificação"
      ],
      "metadata": {
        "id": "MaAq_uqCZkF0"
      }
    },
    {
      "cell_type": "code",
      "source": [
        "#Lista\n",
        "minha_lista = [] #isso é uma lista vaxiz\n",
        "print(minha_lista)"
      ],
      "metadata": {
        "id": "cZAz-Sd-ZjRN"
      },
      "execution_count": null,
      "outputs": []
    },
    {
      "cell_type": "code",
      "source": [
        "Minha_lista1 = ['Thamara', 'bezerra', 31, 1.28] #Uma lista com 3 elementos\n",
        "\n",
        "print(Minha_lista1)"
      ],
      "metadata": {
        "id": "ZpCRgnRrAf6f",
        "colab": {
          "base_uri": "https://localhost:8080/"
        },
        "outputId": "c8e0ca47-1501-4638-a0ac-fa5cc3e7b762"
      },
      "execution_count": null,
      "outputs": [
        {
          "output_type": "stream",
          "name": "stdout",
          "text": [
            "['Thamara', 'bezerra', 31, 1.28]\n"
          ]
        }
      ]
    },
    {
      "cell_type": "code",
      "source": [
        "Minha_lista1[0] #0 sempre vai ser o primeiro elemento\n",
        "Minha_lista1[1] #Segundo elemento\n",
        "Minha_lista1[2] #terceiro elemento de lista\n",
        "Minha_lista1[3] #ultimo elemento da lista"
      ],
      "metadata": {
        "id": "Uff7hceLqzyA",
        "colab": {
          "base_uri": "https://localhost:8080/"
        },
        "outputId": "e73b3113-2418-4747-f0e8-62287310752d"
      },
      "execution_count": null,
      "outputs": [
        {
          "output_type": "execute_result",
          "data": {
            "text/plain": [
              "1.28"
            ]
          },
          "metadata": {},
          "execution_count": 28
        }
      ]
    },
    {
      "cell_type": "code",
      "source": [
        "#Como descobri o tamanho da lista\n",
        "len(Minha_lista1)\n"
      ],
      "metadata": {
        "id": "9cwHBwTorvPG"
      },
      "execution_count": null,
      "outputs": []
    },
    {
      "cell_type": "code",
      "source": [
        "#Como acha ultimo elemento\n",
        "indice = len(Minha_lista1)-1\n",
        "Minha_lista1[indice]"
      ],
      "metadata": {
        "id": "i7KW5opRsBrb"
      },
      "execution_count": null,
      "outputs": []
    },
    {
      "cell_type": "code",
      "source": [
        "Minha_lista1[-1] #ultimo elemento\n",
        "Minha_lista1[-2] #Pré-ultimo\n"
      ],
      "metadata": {
        "id": "lpRaMLuwsZBE"
      },
      "execution_count": null,
      "outputs": []
    },
    {
      "cell_type": "code",
      "source": [
        "#Como faço para pega 2 elemento da lista\n",
        "Minha_lista1[0:2] #pego onde eu quero começa e ate um posição antes do que quero. lembra n-1"
      ],
      "metadata": {
        "id": "BGGmf57FtvHB"
      },
      "execution_count": null,
      "outputs": []
    },
    {
      "cell_type": "code",
      "source": [
        "Minha_lista1 [0:-1] #Para pega todos os elementos menos o ultimo"
      ],
      "metadata": {
        "id": "AmPXu5uJxSoy"
      },
      "execution_count": null,
      "outputs": []
    },
    {
      "cell_type": "code",
      "execution_count": null,
      "metadata": {
        "id": "UxH76fhGXIVz",
        "colab": {
          "base_uri": "https://localhost:8080/"
        },
        "outputId": "b47a1fea-4b7a-498f-a8f7-c4c4e7f6b4d6"
      },
      "outputs": [
        {
          "output_type": "execute_result",
          "data": {
            "text/plain": [
              "['Thamara', 31]"
            ]
          },
          "metadata": {},
          "execution_count": 24
        }
      ],
      "source": [
        "Minha_lista1[::2] #Start:stop:step"
      ]
    },
    {
      "cell_type": "code",
      "source": [
        "Minha_lista1[::-1] #inversão da lista"
      ],
      "metadata": {
        "colab": {
          "base_uri": "https://localhost:8080/"
        },
        "id": "qvW5IsLZzZ6I",
        "outputId": "0024d2e3-f895-4a86-a7a4-1f4dc8422360"
      },
      "execution_count": null,
      "outputs": [
        {
          "output_type": "execute_result",
          "data": {
            "text/plain": [
              "[1.28, 31, 'bezerra', 'Thamara']"
            ]
          },
          "metadata": {},
          "execution_count": 26
        }
      ]
    },
    {
      "cell_type": "code",
      "source": [
        "Minha_lista1[::-2] #inversão da lista em 2 em 2"
      ],
      "metadata": {
        "id": "lQRDYYhmX3Mb",
        "colab": {
          "base_uri": "https://localhost:8080/"
        },
        "outputId": "e52d2ce0-a4e5-4458-833c-d1b6e5bd823d"
      },
      "execution_count": null,
      "outputs": [
        {
          "output_type": "execute_result",
          "data": {
            "text/plain": [
              "[1.28, 'bezerra']"
            ]
          },
          "metadata": {},
          "execution_count": 30
        }
      ]
    },
    {
      "cell_type": "code",
      "source": [
        "notas = [] #Uma lista vazia\n",
        "nota = 7.25 #vou adicionar esta nota na lista vazia acima\n",
        "notas.append(nota) #append adiocinar um elemento ao fim da lista. append só adiconar um unico elemento\n",
        "print(notas) #ele vai mostra a nota na lista"
      ],
      "metadata": {
        "id": "LaMjSfI-X0jo",
        "colab": {
          "base_uri": "https://localhost:8080/"
        },
        "outputId": "491ef5ce-9794-4020-bee6-a6eec8f60792"
      },
      "execution_count": null,
      "outputs": [
        {
          "output_type": "stream",
          "name": "stdout",
          "text": [
            "[7.25]\n"
          ]
        }
      ]
    },
    {
      "cell_type": "code",
      "source": [
        "nome = 'Thamara'\n",
        "nome_alto = nome.upper()  # upper() deixa a palavra em caixa alta\n",
        "print(nome_alto)  # Aqui imprime 'THAMARA'\n",
        "print(nome)  # A variável 'nome' continua como 'Thamara'\n",
        "#strings sãi imutáveis"
      ],
      "metadata": {
        "colab": {
          "base_uri": "https://localhost:8080/"
        },
        "id": "DOKTGmP-6Toy",
        "outputId": "f588d2f0-71e0-450f-88d2-eec21034523c"
      },
      "execution_count": null,
      "outputs": [
        {
          "output_type": "stream",
          "name": "stdout",
          "text": [
            "THAMARA\n",
            "Thamara\n"
          ]
        }
      ]
    },
    {
      "cell_type": "code",
      "source": [
        "lista1 = [1, 2, 3]\n",
        "lista2 = lista1  # lista2 aponta para a mesma lista\n",
        "lista2.append(4)  # Adiciona um elemento\n",
        "print(lista1)  # Resultado: [1, 2, 3, 4]\n",
        "print(lista2)  # Resultado: [1, 2, 3, 4]\n",
        "#Lista é mutáveis"
      ],
      "metadata": {
        "colab": {
          "base_uri": "https://localhost:8080/"
        },
        "id": "EIwdcWEJ8S-s",
        "outputId": "ee17a06c-1dc8-41ae-90ba-4d66fb48b013"
      },
      "execution_count": null,
      "outputs": [
        {
          "output_type": "stream",
          "name": "stdout",
          "text": [
            "[1, 2, 3, 4]\n",
            "[1, 2, 3, 4]\n"
          ]
        }
      ]
    },
    {
      "cell_type": "code",
      "source": [
        "notas.append([5.75,6.24]) #Como append só pode adicinar um elemento, podemos adicinar uma lista\n",
        "print(notas) #porém fica uma lista dentro de outra lista. |notas=2|"
      ],
      "metadata": {
        "colab": {
          "base_uri": "https://localhost:8080/"
        },
        "id": "X8gOLetI9nE9",
        "outputId": "4a34f90c-03c7-4415-b62f-bc89c85cdd90"
      },
      "execution_count": null,
      "outputs": [
        {
          "output_type": "stream",
          "name": "stdout",
          "text": [
            "[7.25, [5.75, 6.24]]\n"
          ]
        }
      ]
    },
    {
      "cell_type": "code",
      "source": [
        "notas.extend([5.75,6.24]) #Ele sim, adiciona elementos na lista. sem ser em outra lista\n",
        "print(notas)\n"
      ],
      "metadata": {
        "colab": {
          "base_uri": "https://localhost:8080/"
        },
        "id": "6wB3Jos9AA4U",
        "outputId": "7b083689-e59a-41be-9441-c9d843c8db09"
      },
      "execution_count": null,
      "outputs": [
        {
          "output_type": "stream",
          "name": "stdout",
          "text": [
            "[7.25, [5.75, 6.24], 5.75, 6.24]\n"
          ]
        }
      ]
    },
    {
      "cell_type": "code",
      "source": [
        "notas.remove([5.75,6.24]) #vai remover elementos\n",
        "print(notas)"
      ],
      "metadata": {
        "colab": {
          "base_uri": "https://localhost:8080/"
        },
        "id": "vq2upoS8BOw-",
        "outputId": "cba3b8f4-c804-4911-9eda-8c1f7d64e516"
      },
      "execution_count": null,
      "outputs": [
        {
          "output_type": "stream",
          "name": "stdout",
          "text": [
            "[7.25, 5.75, 6.24]\n"
          ]
        }
      ]
    },
    {
      "cell_type": "code",
      "source": [
        "notas = notas + [10,9.25] #Vai junta as duas lista\n",
        "print(notas)"
      ],
      "metadata": {
        "colab": {
          "base_uri": "https://localhost:8080/"
        },
        "id": "9vHrSGBcBZhB",
        "outputId": "09bbf900-56d4-4cf8-8053-796ea354ec36"
      },
      "execution_count": null,
      "outputs": [
        {
          "output_type": "stream",
          "name": "stdout",
          "text": [
            "[7.25, 5.75, 6.24, 10, 9.25, 10, 9.25]\n"
          ]
        }
      ]
    },
    {
      "cell_type": "code",
      "source": [
        "notas.remove(10)\n",
        "print(notas)"
      ],
      "metadata": {
        "colab": {
          "base_uri": "https://localhost:8080/"
        },
        "id": "MLtOD6_ZB1xR",
        "outputId": "07ba4c85-226a-4fb8-ad7a-a0f9e38bf68e"
      },
      "execution_count": null,
      "outputs": [
        {
          "output_type": "stream",
          "name": "stdout",
          "text": [
            "[7.25, 5.75, 6.24, 9.25, 9.25]\n"
          ]
        }
      ]
    },
    {
      "cell_type": "code",
      "source": [
        "nomes = ['thamara','Davi','gabi']\n",
        "for i in nomes:\n",
        "  print(i)"
      ],
      "metadata": {
        "colab": {
          "base_uri": "https://localhost:8080/"
        },
        "id": "57GHlpPzCEPQ",
        "outputId": "072851e6-9757-44d1-bea3-c2b6c9bc2987"
      },
      "execution_count": null,
      "outputs": [
        {
          "output_type": "stream",
          "name": "stdout",
          "text": [
            "thamara\n",
            "Davi\n",
            "gabi\n"
          ]
        }
      ]
    },
    {
      "cell_type": "code",
      "source": [
        "nomes = ['thamara','Davi','gabi']\n",
        "for i in nomes:\n",
        "  print(i.title())"
      ],
      "metadata": {
        "colab": {
          "base_uri": "https://localhost:8080/"
        },
        "id": "uvz9X4a6DBYP",
        "outputId": "cbc42ea7-e9ba-4616-e952-69ded0448116"
      },
      "execution_count": null,
      "outputs": [
        {
          "output_type": "stream",
          "name": "stdout",
          "text": [
            "Thamara\n",
            "Davi\n",
            "Gabi\n"
          ]
        }
      ]
    },
    {
      "cell_type": "code",
      "source": [
        "nomes.extend(['ana','luiza']) #você pode adicionar elementos na lista.\n",
        "print(nomes)"
      ],
      "metadata": {
        "colab": {
          "base_uri": "https://localhost:8080/"
        },
        "id": "ZEion7rJDRo2",
        "outputId": "a5d2459c-ec86-4fac-a1da-5dffecc05607"
      },
      "execution_count": null,
      "outputs": [
        {
          "output_type": "stream",
          "name": "stdout",
          "text": [
            "['thamara', 'Davi', 'gabi', 'ana', 'luiza', 'ana', 'luiza']\n"
          ]
        }
      ]
    },
    {
      "cell_type": "markdown",
      "source": [
        "### dicionário = mapas\n",
        "\n",
        "\n"
      ],
      "metadata": {
        "id": "MUzdZzRda3Yo"
      }
    },
    {
      "cell_type": "code",
      "source": [
        "dados = {'nome':'Thamara',\n",
        "         'sobrenome': 'Bezerra',\n",
        "         'idade':24,\n",
        "         'ex':['vitoria','jeissa','janaina'],\n",
        "         'sobrinhos':[\n",
        "          {'nome':'ana', 'idade':9},\n",
        "          {'nome':'luiza', 'idade':7},\n",
        "          {'nome':'davi','idade':1}\n",
        "]}\n",
        "\n",
        "print(dados['sobrinhos'][0]['idade']) #Como acha a idade do meu primeiro sobrinho"
      ],
      "metadata": {
        "colab": {
          "base_uri": "https://localhost:8080/"
        },
        "id": "dRGCpfw9ckkb",
        "outputId": "8e93a03a-fc52-458b-8a2b-ac1c44547e21"
      },
      "execution_count": null,
      "outputs": [
        {
          "output_type": "stream",
          "name": "stdout",
          "text": [
            "9\n"
          ]
        }
      ]
    },
    {
      "cell_type": "code",
      "source": [
        "#Quais são as chaves no dicionácio\n",
        "dados.keys()\n"
      ],
      "metadata": {
        "id": "MmwijTxdXmpi",
        "colab": {
          "base_uri": "https://localhost:8080/"
        },
        "outputId": "38f84beb-0f3d-483f-9625-5eec96d7edd8"
      },
      "execution_count": null,
      "outputs": [
        {
          "output_type": "execute_result",
          "data": {
            "text/plain": [
              "dict_keys(['nome', 'sobrenome', 'idade', 'ex', 'sobrinhos'])"
            ]
          },
          "metadata": {},
          "execution_count": 6
        }
      ]
    },
    {
      "cell_type": "code",
      "source": [
        "#Para saber os valores\n",
        "dados.values()"
      ],
      "metadata": {
        "colab": {
          "base_uri": "https://localhost:8080/"
        },
        "id": "zLF3vwCwXVLf",
        "outputId": "384f8209-165b-43b9-dc3d-db260cbb1bab"
      },
      "execution_count": null,
      "outputs": [
        {
          "output_type": "execute_result",
          "data": {
            "text/plain": [
              "dict_values(['Thamara', 'Bezerra', 24, ['vitoria', 'jeissa', 'janaina'], [{'nome': 'ana', 'idade': 9}, {'nome': 'luiza', 'idade': 7}, {'nome': 'davi', 'idade': 1}]])"
            ]
          },
          "metadata": {},
          "execution_count": 5
        }
      ]
    },
    {
      "cell_type": "code",
      "source": [
        "#Para saber os pares Chave:Valor\n",
        "dados.items()\n"
      ],
      "metadata": {
        "colab": {
          "base_uri": "https://localhost:8080/"
        },
        "id": "Vx1NW1WzXWAB",
        "outputId": "1f1e23c4-74a7-4f1b-9b91-49481eaa1b46"
      },
      "execution_count": null,
      "outputs": [
        {
          "output_type": "execute_result",
          "data": {
            "text/plain": [
              "dict_items([('nome', 'Thamara'), ('sobrenome', 'Bezerra'), ('idade', 24), ('ex', ['vitoria', 'jeissa', 'janaina']), ('sobrinhos', [{'nome': 'ana', 'idade': 9}, {'nome': 'luiza', 'idade': 7}, {'nome': 'davi', 'idade': 1}])])"
            ]
          },
          "metadata": {},
          "execution_count": 9
        }
      ]
    },
    {
      "cell_type": "markdown",
      "source": [
        "Tuplas"
      ],
      "metadata": {
        "id": "sJndtI6YYOJT"
      }
    },
    {
      "cell_type": "code",
      "source": [
        "#Tuplas são lista imutavel\n",
        "\n",
        "nomes = ('thamara','Gabriella','Bezerra')\n",
        "print(nomes)"
      ],
      "metadata": {
        "colab": {
          "base_uri": "https://localhost:8080/"
        },
        "id": "JNGlfgqEYbnv",
        "outputId": "966e1c02-6c3c-47bc-c76b-77c5cab8c8a9"
      },
      "execution_count": null,
      "outputs": [
        {
          "output_type": "stream",
          "name": "stdout",
          "text": [
            "('thamara', 'Gabriella', 'Bezerra')\n"
          ]
        }
      ]
    },
    {
      "cell_type": "code",
      "source": [
        "#Pedemos usar a posição de lista para tuplas\n",
        "nomes[0]\n",
        "nomes[::-1]"
      ],
      "metadata": {
        "colab": {
          "base_uri": "https://localhost:8080/"
        },
        "id": "_NyyGpk6YtJI",
        "outputId": "f1d56270-956d-4d7a-c0e0-b4639c2ec55a"
      },
      "execution_count": null,
      "outputs": [
        {
          "output_type": "execute_result",
          "data": {
            "text/plain": [
              "('Bezerra', 'Gabriella', 'thamara')"
            ]
          },
          "metadata": {},
          "execution_count": 14
        }
      ]
    },
    {
      "cell_type": "markdown",
      "source": [
        ",**Ementa (3/3)**\n",
        "\n",
        "**funções**\n",
        "- definindo funções em python\n",
        "- parâmentros e argumentos\n",
        "- retorno de valores\n",
        "\n",
        "**Módulos e bibliotecas**\n",
        "- importando e usando módulos em python\n",
        "-explorando bibliotecas populares\n",
        "(exemplo:marh,random,datetime)\n",
        "\n",
        "**Manipulação de arquivos**\n",
        "- Leitura e escrita de arquivos em python\n",
        "- trabalhando com arquivos CCV"
      ],
      "metadata": {
        "id": "o3XW1n_QZN2P"
      }
    },
    {
      "cell_type": "code",
      "source": [
        "#Função\n",
        "\n",
        "def funcao(x): #Assinatura da função\n",
        "   res = x + 10 #esta varivael só existe dentro da função\n",
        "   return res  #Estou definido a função\n",
        "resultado = funcao(5)\n",
        "print(resultado)  # Vai imprimir 15\n"
      ],
      "metadata": {
        "id": "euTgBFZ-ZE7y",
        "colab": {
          "base_uri": "https://localhost:8080/"
        },
        "outputId": "d7cd25ad-93fa-40e6-9c39-5d9b18260c66"
      },
      "execution_count": null,
      "outputs": [
        {
          "output_type": "stream",
          "name": "stdout",
          "text": [
            "15\n"
          ]
        }
      ]
    },
    {
      "cell_type": "code",
      "source": [
        "def teamo():\n",
        "  print('Teamo')\n",
        "\n",
        "print('teamo')"
      ],
      "metadata": {
        "colab": {
          "base_uri": "https://localhost:8080/"
        },
        "id": "DCMlKP8I5CuA",
        "outputId": "f853e673-c7bc-4a38-91ca-99fb2cc4daf3"
      },
      "execution_count": null,
      "outputs": [
        {
          "output_type": "stream",
          "name": "stdout",
          "text": [
            "teamo\n"
          ]
        }
      ]
    },
    {
      "cell_type": "code",
      "source": [
        "def soma(a, b): #Argumentos Obrigatoria\n",
        "  return a + b\n",
        "soma(10,20)"
      ],
      "metadata": {
        "colab": {
          "base_uri": "https://localhost:8080/"
        },
        "id": "GzWTCkcq5dDH",
        "outputId": "802862a3-a9f3-4a2d-8401-a5fd3fa1b60d"
      },
      "execution_count": null,
      "outputs": [
        {
          "output_type": "execute_result",
          "data": {
            "text/plain": [
              "30"
            ]
          },
          "metadata": {},
          "execution_count": 6
        }
      ]
    },
    {
      "cell_type": "code",
      "source": [
        "def soma (a=0, b=0, c=0):\n",
        "  return a + b + c\n",
        "soma(10, 20, 100)"
      ],
      "metadata": {
        "id": "tEhnRML_50vx",
        "colab": {
          "base_uri": "https://localhost:8080/"
        },
        "outputId": "e4c18a78-4902-4c98-e5b4-5dea29a94218"
      },
      "execution_count": null,
      "outputs": [
        {
          "output_type": "execute_result",
          "data": {
            "text/plain": [
              "130"
            ]
          },
          "metadata": {},
          "execution_count": 9
        }
      ]
    },
    {
      "cell_type": "code",
      "source": [
        "def soma(*args):\n",
        "    total = 0  # Inicia a variável total com 0\n",
        "    for i in args:  # Para cada valor dentro de args...\n",
        "        total += i  # Soma o valor de i com total\n",
        "    return total  # Retorna a soma total\n",
        "\n",
        "soma(1,2,3,4,5,6,7,8,9)\n"
      ],
      "metadata": {
        "colab": {
          "base_uri": "https://localhost:8080/"
        },
        "id": "c-YffxZyO7Il",
        "outputId": "750138aa-39ab-474a-c66c-a16db3a742da"
      },
      "execution_count": null,
      "outputs": [
        {
          "output_type": "execute_result",
          "data": {
            "text/plain": [
              "45"
            ]
          },
          "metadata": {},
          "execution_count": 13
        }
      ]
    },
    {
      "cell_type": "code",
      "source": [
        "dados = ['thamara','Bezerra']\n",
        "nome = dados[0]\n",
        "sobrenome = dados[1]"
      ],
      "metadata": {
        "id": "yK-jU3hfRCHD"
      },
      "execution_count": null,
      "outputs": []
    },
    {
      "cell_type": "code",
      "source": [
        "print(nome)\n",
        "print(sobrenome)"
      ],
      "metadata": {
        "colab": {
          "base_uri": "https://localhost:8080/"
        },
        "id": "62j5EcTIRUvR",
        "outputId": "fa1a715b-4f60-4020-f606-647ebe430be4"
      },
      "execution_count": null,
      "outputs": [
        {
          "output_type": "stream",
          "name": "stdout",
          "text": [
            "thamara\n",
            "Bezerra\n"
          ]
        }
      ]
    },
    {
      "cell_type": "code",
      "source": [
        "# Importando o módulo math para funções matemáticas avançadas\n",
        "import math\n",
        "\n",
        "# Usando a função sqrt (raiz quadrada) do módulo math\n",
        "print(math.sqrt(16))  # Saída: 4.0\n"
      ],
      "metadata": {
        "colab": {
          "base_uri": "https://localhost:8080/"
        },
        "id": "K4HnQKO021qd",
        "outputId": "c4c84e52-71d0-469f-c9ca-df6d92ed3ab9"
      },
      "execution_count": null,
      "outputs": [
        {
          "output_type": "stream",
          "name": "stdout",
          "text": [
            "4.0\n"
          ]
        }
      ]
    },
    {
      "cell_type": "code",
      "source": [
        "from math import pi\n",
        "\n",
        "# Agora podemos usar 'pi' diretamente sem 'math.'\n",
        "print(pi)  # Saída: 3.141592653589793\n"
      ],
      "metadata": {
        "colab": {
          "base_uri": "https://localhost:8080/"
        },
        "id": "mpQL90lI24ag",
        "outputId": "0e218413-8ecb-444a-ab13-0d5daed1b6e9"
      },
      "execution_count": null,
      "outputs": [
        {
          "output_type": "stream",
          "name": "stdout",
          "text": [
            "3.141592653589793\n"
          ]
        }
      ]
    },
    {
      "cell_type": "code",
      "source": [
        "import math\n",
        "print(math.factorial(5))  # Saída: 120\n"
      ],
      "metadata": {
        "colab": {
          "base_uri": "https://localhost:8080/"
        },
        "id": "lCpnEiOR27uP",
        "outputId": "eed2b05a-ddb7-437c-e916-9f73de6d45ca"
      },
      "execution_count": null,
      "outputs": [
        {
          "output_type": "stream",
          "name": "stdout",
          "text": [
            "120\n"
          ]
        }
      ]
    },
    {
      "cell_type": "code",
      "source": [
        "import datetime\n",
        "now = datetime.datetime.now()\n",
        "print(now)  # Saída: data e hora atual\n"
      ],
      "metadata": {
        "colab": {
          "base_uri": "https://localhost:8080/"
        },
        "id": "OLNQMV-U3BOK",
        "outputId": "80ec0d42-ecae-4717-df7c-98213b5a1007"
      },
      "execution_count": null,
      "outputs": [
        {
          "output_type": "stream",
          "name": "stdout",
          "text": [
            "2025-01-05 05:07:00.221931\n"
          ]
        }
      ]
    }
  ]
}